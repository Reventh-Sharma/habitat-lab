{
 "cells": [
  {
   "cell_type": "code",
   "execution_count": 1,
   "metadata": {},
   "outputs": [
    {
     "name": "stderr",
     "output_type": "stream",
     "text": [
      "/opt/conda/envs/habitat/lib/python3.9/site-packages/tqdm/auto.py:21: TqdmWarning: IProgress not found. Please update jupyter and ipywidgets. See https://ipywidgets.readthedocs.io/en/stable/user_install.html\n",
      "  from .autonotebook import tqdm as notebook_tqdm\n"
     ]
    }
   ],
   "source": [
    "## [setup]\n",
    "import os\n",
    "import random\n",
    "\n",
    "import git\n",
    "import magnum as mn\n",
    "import numpy as np\n",
    "\n",
    "import habitat_sim\n",
    "from habitat_sim.utils import viz_utils as vut\n",
    "\n",
    "repo = git.Repo(\".\", search_parent_directories=True)\n",
    "dir_path = repo.working_tree_dir\n",
    "data_path = os.path.join(dir_path, \"data\")\n",
    "output_path = os.path.join(\n",
    "    dir_path, \"examples/tutorials/managed_rigid_object_tutorial_output/\"\n",
    ")\n",
    "\n",
    "\n",
    "def place_agent(sim):\n",
    "    # place our agent in the scene\n",
    "    agent_state = habitat_sim.AgentState()\n",
    "    agent_state.position = [-0.15, -0.7, 1.0]\n",
    "    agent_state.rotation = np.quaternion(-0.83147, 0, 0.55557, 0)\n",
    "    agent = sim.initialize_agent(0, agent_state)\n",
    "    return agent.scene_node.transformation_matrix()\n",
    "\n",
    "\n",
    "def make_configuration():\n",
    "    # simulator configuration\n",
    "    backend_cfg = habitat_sim.SimulatorConfiguration()\n",
    "    backend_cfg.scene_id = os.path.join(\n",
    "        data_path, \"scene_datasets/habitat-test-scenes/apartment_1.glb\"\n",
    "    )\n",
    "    assert os.path.exists(backend_cfg.scene_id)\n",
    "\n",
    "    # sensor configurations\n",
    "    # Note: all sensors must have the same resolution\n",
    "    # setup 2 rgb sensors for 1st and 3rd person views\n",
    "    camera_resolution = [544, 720]\n",
    "    sensor_specs = []\n",
    "\n",
    "    rgba_camera_1stperson_spec = habitat_sim.CameraSensorSpec()\n",
    "    rgba_camera_1stperson_spec.uuid = \"rgba_camera_1stperson\"\n",
    "    rgba_camera_1stperson_spec.sensor_type = habitat_sim.SensorType.COLOR\n",
    "    rgba_camera_1stperson_spec.resolution = camera_resolution\n",
    "    rgba_camera_1stperson_spec.position = [0.0, 0.6, 0.0]\n",
    "    rgba_camera_1stperson_spec.orientation = [0.0, 0.0, 0.0]\n",
    "    rgba_camera_1stperson_spec.sensor_subtype = habitat_sim.SensorSubType.PINHOLE\n",
    "    sensor_specs.append(rgba_camera_1stperson_spec)\n",
    "\n",
    "    depth_camera_1stperson_spec = habitat_sim.CameraSensorSpec()\n",
    "    depth_camera_1stperson_spec.uuid = \"depth_camera_1stperson\"\n",
    "    depth_camera_1stperson_spec.sensor_type = habitat_sim.SensorType.DEPTH\n",
    "    depth_camera_1stperson_spec.resolution = camera_resolution\n",
    "    depth_camera_1stperson_spec.position = [0.0, 0.6, 0.0]\n",
    "    depth_camera_1stperson_spec.orientation = [0.0, 0.0, 0.0]\n",
    "    depth_camera_1stperson_spec.sensor_subtype = habitat_sim.SensorSubType.PINHOLE\n",
    "    sensor_specs.append(depth_camera_1stperson_spec)\n",
    "\n",
    "    rgba_camera_3rdperson_spec = habitat_sim.CameraSensorSpec()\n",
    "    rgba_camera_3rdperson_spec.uuid = \"rgba_camera_3rdperson\"\n",
    "    rgba_camera_3rdperson_spec.sensor_type = habitat_sim.SensorType.COLOR\n",
    "    rgba_camera_3rdperson_spec.resolution = camera_resolution\n",
    "    rgba_camera_3rdperson_spec.position = [0.0, 1.0, 0.3]\n",
    "    rgba_camera_3rdperson_spec.orientation = [-45.0, 0.0, 0.0]\n",
    "    rgba_camera_3rdperson_spec.sensor_subtype = habitat_sim.SensorSubType.PINHOLE\n",
    "    sensor_specs.append(rgba_camera_3rdperson_spec)\n",
    "\n",
    "    # agent configuration\n",
    "    agent_cfg = habitat_sim.agent.AgentConfiguration()\n",
    "    agent_cfg.sensor_specifications = sensor_specs\n",
    "\n",
    "    return habitat_sim.Configuration(backend_cfg, [agent_cfg])\n",
    "\n",
    "\n",
    "def simulate(sim, dt=1.0, get_frames=True):\n",
    "    # simulate dt seconds at 60Hz to the nearest fixed timestep\n",
    "    print(\"Simulating \" + str(dt) + \" world seconds.\")\n",
    "    observations = []\n",
    "    start_time = sim.get_world_time()\n",
    "    while sim.get_world_time() < start_time + dt:\n",
    "        sim.step_physics(1.0 / 60.0)\n",
    "        if get_frames:\n",
    "            observations.append(sim.get_sensor_observations())\n",
    "\n",
    "    return observations\n",
    "\n",
    "\n",
    "# [/setup]\n",
    "if __name__ == \"__main__\":\n",
    "    import argparse\n",
    "\n",
    "    parser = argparse.ArgumentParser()\n",
    "    parser.add_argument(\"--no-show-video\", dest=\"show_video\", action=\"store_false\")\n",
    "    parser.add_argument(\"--no-make-video\", dest=\"make_video\", action=\"store_false\")\n",
    "    parser.set_defaults(show_video=True, make_video=True)\n",
    "    args, _ = parser.parse_known_args()\n",
    "    show_video = args.show_video\n",
    "    make_video = args.make_video\n",
    "    if make_video and not os.path.exists(output_path):\n",
    "        os.mkdir(output_path)"
   ]
  },
  {
   "cell_type": "code",
   "execution_count": 2,
   "metadata": {},
   "outputs": [
    {
     "name": "stderr",
     "output_type": "stream",
     "text": [
      "PluginManager::Manager: duplicate static plugin StbImageImporter, ignoring\n",
      "PluginManager::Manager: duplicate static plugin GltfImporter, ignoring\n",
      "PluginManager::Manager: duplicate static plugin BasisImporter, ignoring\n",
      "PluginManager::Manager: duplicate static plugin AssimpImporter, ignoring\n",
      "PluginManager::Manager: duplicate static plugin AnySceneImporter, ignoring\n",
      "PluginManager::Manager: duplicate static plugin AnyImageImporter, ignoring\n",
      "[03:33:58:704239]:[Error]:[Scene] SemanticScene.cpp(137)::loadSemanticSceneDescriptor : SSD Load Failure! File with SemanticAttributes-provided name `/data/reventh/habitat-lab/data/scene_datasets/habitat-test-scenes/apartment_1.scn` exists but failed to load.\n"
     ]
    }
   ],
   "source": [
    "    # [initialize]\n",
    "    # create the simulators AND resets the simulator\n",
    "\n",
    "    cfg = make_configuration()\n",
    "    try:  # Got to make initialization idiot proof\n",
    "        sim.close()\n",
    "    except NameError:\n",
    "        pass\n",
    "    sim = habitat_sim.Simulator(cfg)\n",
    "    agent_transform = place_agent(sim)\n",
    "\n",
    "    # get the primitive assets attributes manager\n",
    "    prim_templates_mgr = sim.get_asset_template_manager()\n",
    "\n",
    "    # get the physics object attributes manager\n",
    "    obj_templates_mgr = sim.get_object_template_manager()\n",
    "\n",
    "    # get the rigid object manager\n",
    "    rigid_obj_mgr = sim.get_rigid_object_manager()\n",
    "    # [/initialize]"
   ]
  },
  {
   "cell_type": "code",
   "execution_count": 3,
   "metadata": {},
   "outputs": [
    {
     "data": {
      "text/plain": [
       "[]"
      ]
     },
     "execution_count": 3,
     "metadata": {},
     "output_type": "execute_result"
    }
   ],
   "source": [
    "obj_templates_mgr.get_file_template_handles()"
   ]
  },
  {
   "cell_type": "code",
   "execution_count": 4,
   "metadata": {
    "lines_to_next_cell": 0
   },
   "outputs": [
    {
     "name": "stdout",
     "output_type": "stream",
     "text": [
      "Simulating 1.5 world seconds.\n",
      "Encoding the video: /data/reventh/habitat-lab/examples/tutorials/managed_rigid_object_tutorial_output/sim_basics.mp4 \n"
     ]
    },
    {
     "data": {
      "text/html": [
       "<video alt=\"test\" autoplay\n",
       "          loop controls style=\"height: 400px;\">\n",
       "          <source src=\"data:video/mp4';base64,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\" type=\"video/mp4\" />\n",
       "          </video>"
      ],
      "text/plain": [
       "<IPython.core.display.HTML object>"
      ]
     },
     "metadata": {},
     "output_type": "display_data"
    },
    {
     "data": {
      "text/plain": [
       "[<habitat_sim._ext.habitat_sim_bindings.ManagedRigidObject at 0x7fa94168a930>]"
      ]
     },
     "execution_count": 4,
     "metadata": {},
     "output_type": "execute_result"
    }
   ],
   "source": [
    "    # [basics]\n",
    "    sim_data_path = '/data/reventh/habitat-sim/data'\n",
    "    # load some object templates from configuration files\n",
    "    sphere_template_id = obj_templates_mgr.load_configs(\n",
    "        str(os.path.join(sim_data_path, \"test_assets/objects/sphere\"))\n",
    "    )[0]\n",
    "\n",
    "    # add a sphere to the scene, returns the object\n",
    "    sphere_obj = rigid_obj_mgr.add_object_by_template_id(sphere_template_id)\n",
    "    # move sphere\n",
    "    sphere_obj.translation = [2.50, 0.0, 0.2]\n",
    "\n",
    "    # simulate\n",
    "    observations = simulate(sim, dt=1.5, get_frames=make_video)\n",
    "\n",
    "    if make_video:\n",
    "        vut.make_video(\n",
    "            observations,\n",
    "            \"rgba_camera_1stperson\",\n",
    "            \"color\",\n",
    "            output_path + \"sim_basics\",\n",
    "            open_vid=show_video,\n",
    "        )\n",
    "\n",
    "    # [/basics]\n",
    "    rigid_obj_mgr.remove_all_objects()"
   ]
  },
  {
   "cell_type": "code",
   "execution_count": 5,
   "metadata": {},
   "outputs": [
    {
     "name": "stdout",
     "output_type": "stream",
     "text": [
      "[12]\n"
     ]
    }
   ],
   "source": [
    " sphere_template_id = obj_templates_mgr.load_configs(\n",
    "        str(os.path.join(sim_data_path, \"test_assets/objects/sphere\"))\n",
    "    )\n",
    " print(sphere_template_id)"
   ]
  },
  {
   "cell_type": "code",
   "execution_count": 6,
   "metadata": {},
   "outputs": [
    {
     "name": "stdout",
     "output_type": "stream",
     "text": [
      "Simulating 1.5 world seconds.\n",
      "Encoding the video: /data/reventh/habitat-lab/examples/tutorials/managed_rigid_object_tutorial_output/sim_basics.mp4 \n"
     ]
    },
    {
     "data": {
      "text/html": [
       "<video alt=\"test\" autoplay\n",
       "          loop controls style=\"height: 400px;\">\n",
       "          <source src=\"data:video/mp4';base64,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\" type=\"video/mp4\" />\n",
       "          </video>"
      ],
      "text/plain": [
       "<IPython.core.display.HTML object>"
      ]
     },
     "metadata": {},
     "output_type": "display_data"
    }
   ],
   "source": [
    "    # simulate\n",
    "    observations = simulate(sim, dt=1.5, get_frames=make_video)\n",
    "\n",
    "    if make_video:\n",
    "        vut.make_video(\n",
    "            observations,\n",
    "            \"rgba_camera_1stperson\",\n",
    "            \"color\",\n",
    "            output_path + \"sim_basics\",\n",
    "            open_vid=show_video,\n",
    "        )"
   ]
  },
  {
   "cell_type": "code",
   "execution_count": 7,
   "metadata": {},
   "outputs": [
    {
     "data": {
      "text/plain": [
       "<habitat_sim._ext.habitat_sim_bindings.ObjectAttributes at 0x7faab1cd15f0>"
      ]
     },
     "execution_count": 7,
     "metadata": {},
     "output_type": "execute_result"
    }
   ],
   "source": [
    "temp_handle = obj_templates_mgr.get_file_template_handles()[0]\n",
    "obj_temp = obj_templates_mgr.get_template_by_handle(temp_handle)\n",
    "obj_temp"
   ]
  },
  {
   "cell_type": "code",
   "execution_count": 8,
   "metadata": {},
   "outputs": [
    {
     "data": {
      "text/plain": [
       "'/data/reventh/habitat-sim/data/test_assets/objects/sphere.object_config.json'"
      ]
     },
     "execution_count": 8,
     "metadata": {},
     "output_type": "execute_result"
    }
   ],
   "source": [
    "temp_handle"
   ]
  },
  {
   "cell_type": "code",
   "execution_count": 9,
   "metadata": {},
   "outputs": [
    {
     "name": "stdout",
     "output_type": "stream",
     "text": [
      "13\n"
     ]
    }
   ],
   "source": [
    "obj_temp.scale *= 5.0\n",
    "new_temp = temp_handle+'_new'\n",
    "new_tempid = obj_templates_mgr.register_template(obj_temp, new_temp)\n",
    "print(new_tempid)\n",
    "sphere_obj = rigid_obj_mgr.add_object_by_template_id(new_tempid)\n",
    "# move sphere\n",
    "sphere_obj.translation = [2.50, 0.0, 0.2]"
   ]
  },
  {
   "cell_type": "code",
   "execution_count": 10,
   "metadata": {},
   "outputs": [
    {
     "name": "stdout",
     "output_type": "stream",
     "text": [
      "Simulating 1.5 world seconds.\n",
      "Encoding the video: /data/reventh/habitat-lab/examples/tutorials/managed_rigid_object_tutorial_output/sim_basics.mp4 \n"
     ]
    },
    {
     "data": {
      "text/html": [
       "<video alt=\"test\" autoplay\n",
       "          loop controls style=\"height: 400px;\">\n",
       "          <source src=\"data:video/mp4';base64,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\" type=\"video/mp4\" />\n",
       "          </video>"
      ],
      "text/plain": [
       "<IPython.core.display.HTML object>"
      ]
     },
     "metadata": {},
     "output_type": "display_data"
    },
    {
     "data": {
      "text/plain": [
       "[<habitat_sim._ext.habitat_sim_bindings.ManagedRigidObject at 0x7faa68c9ad70>]"
      ]
     },
     "execution_count": 10,
     "metadata": {},
     "output_type": "execute_result"
    }
   ],
   "source": [
    "    # simulate\n",
    "    observations = simulate(sim, dt=1.5, get_frames=make_video)\n",
    "\n",
    "    if make_video:\n",
    "        vut.make_video(\n",
    "            observations,\n",
    "            \"rgba_camera_1stperson\",\n",
    "            \"color\",\n",
    "            output_path + \"sim_basics\",\n",
    "            open_vid=show_video,\n",
    "        )\n",
    "\n",
    "    # [/basics]\n",
    "    rigid_obj_mgr.remove_all_objects()"
   ]
  },
  {
   "cell_type": "code",
   "execution_count": 9,
   "metadata": {},
   "outputs": [
    {
     "name": "stdout",
     "output_type": "stream",
     "text": [
      "Sphere Object user attribute : obj_val_0 : This is a sphere object named sphere_:0000\n",
      "Sphere Object user attribute : obj_val_1 : 17\n",
      "Sphere Object user attribute : obj_val_2 : 0\n",
      "Sphere Object user attribute : obj_val_3 : 19.700000\n",
      "Sphere Object user attribute : obj_val_4 : [2.5 0 0.2]\n",
      "Sphere Object user attribute : obj_val_5 : 0.707107 [-0.707107 0 0]\n"
     ]
    },
    {
     "data": {
      "text/plain": [
       "[<habitat_sim._ext.habitat_sim_bindings.ManagedRigidObject at 0x7fb8155dc830>]"
      ]
     },
     "execution_count": 9,
     "metadata": {},
     "output_type": "execute_result"
    }
   ],
   "source": [
    "    # [object_user_configurations]\n",
    "    # modify an object's user-defined configurations\n",
    "\n",
    "    # load some object templates from configuration files\n",
    "    sphere_template_id = obj_templates_mgr.load_configs(\n",
    "        str(os.path.join(sim_data_path, \"test_assets/objects/sphere\"))\n",
    "    )\n",
    "\n",
    "    # add a sphere to the scene, returns the object\n",
    "    sphere_obj = rigid_obj_mgr.add_object_by_template_id(sphere_template_id)\n",
    "\n",
    "    # set user-defined configuration values\n",
    "    user_attributes_dict = {\n",
    "        \"obj_val_0\": \"This is a sphere object named \" + sphere_obj.handle,\n",
    "        \"obj_val_1\": 17,\n",
    "        \"obj_val_2\": False,\n",
    "        \"obj_val_3\": 19.7,\n",
    "        \"obj_val_4\": [2.50, 0.0, 0.2],\n",
    "        \"obj_val_5\": mn.Quaternion.rotation(mn.Deg(90.0), [-1.0, 0.0, 0.0]),\n",
    "    }\n",
    "    for k, v in user_attributes_dict.items():\n",
    "        sphere_obj.user_attributes.set(k, v)\n",
    "\n",
    "    for k, _ in user_attributes_dict.items():\n",
    "        print(\n",
    "            \"Sphere Object user attribute : {} : {}\".format(\n",
    "                k, sphere_obj.user_attributes.get_as_string(k)\n",
    "            )\n",
    "        )\n",
    "\n",
    "    # [/object_user_configurations]\n",
    "    rigid_obj_mgr.remove_all_objects()"
   ]
  },
  {
   "cell_type": "code",
   "execution_count": 11,
   "metadata": {
    "lines_to_next_cell": 0
   },
   "outputs": [
    {
     "ename": "IndexError",
     "evalue": "list index out of range",
     "output_type": "error",
     "traceback": [
      "\u001b[0;31m---------------------------------------------------------------------------\u001b[0m",
      "\u001b[0;31mIndexError\u001b[0m                                Traceback (most recent call last)",
      "Cell \u001b[0;32mIn[11], line 8\u001b[0m\n\u001b[1;32m      4\u001b[0m obj_templates_mgr\u001b[38;5;241m.\u001b[39mload_configs(\n\u001b[1;32m      5\u001b[0m     \u001b[38;5;28mstr\u001b[39m(os\u001b[38;5;241m.\u001b[39mpath\u001b[38;5;241m.\u001b[39mjoin(sim_data_path, \u001b[38;5;124m\"\u001b[39m\u001b[38;5;124mobjects/example_objects/\u001b[39m\u001b[38;5;124m\"\u001b[39m))\n\u001b[1;32m      6\u001b[0m )\n\u001b[1;32m      7\u001b[0m \u001b[38;5;66;03m# search for an object template by key sub-string\u001b[39;00m\n\u001b[0;32m----> 8\u001b[0m cheezit_template_handle \u001b[38;5;241m=\u001b[39m \u001b[43mobj_templates_mgr\u001b[49m\u001b[38;5;241;43m.\u001b[39;49m\u001b[43mget_template_handles\u001b[49m\u001b[43m(\u001b[49m\n\u001b[1;32m      9\u001b[0m \u001b[43m    \u001b[49m\u001b[43mos\u001b[49m\u001b[38;5;241;43m.\u001b[39;49m\u001b[43mpath\u001b[49m\u001b[38;5;241;43m.\u001b[39;49m\u001b[43mjoin\u001b[49m\u001b[43m(\u001b[49m\u001b[43msim_data_path\u001b[49m\u001b[43m,\u001b[49m\u001b[43m \u001b[49m\u001b[38;5;124;43m\"\u001b[39;49m\u001b[38;5;124;43mobjects/example_objects/cheezit\u001b[39;49m\u001b[38;5;124;43m\"\u001b[39;49m\u001b[43m)\u001b[49m\n\u001b[1;32m     10\u001b[0m \u001b[43m)\u001b[49m\u001b[43m[\u001b[49m\u001b[38;5;241;43m0\u001b[39;49m\u001b[43m]\u001b[49m\n\u001b[1;32m     11\u001b[0m \u001b[38;5;66;03m# build multiple object initial positions\u001b[39;00m\n\u001b[1;32m     12\u001b[0m box_positions \u001b[38;5;241m=\u001b[39m [\n\u001b[1;32m     13\u001b[0m     [\u001b[38;5;241m2.39\u001b[39m, \u001b[38;5;241m-\u001b[39m\u001b[38;5;241m0.37\u001b[39m, \u001b[38;5;241m0.0\u001b[39m],\n\u001b[1;32m     14\u001b[0m     [\u001b[38;5;241m2.39\u001b[39m, \u001b[38;5;241m-\u001b[39m\u001b[38;5;241m0.64\u001b[39m, \u001b[38;5;241m0.0\u001b[39m],\n\u001b[0;32m   (...)\u001b[0m\n\u001b[1;32m     17\u001b[0m     [\u001b[38;5;241m2.39\u001b[39m, \u001b[38;5;241m-\u001b[39m\u001b[38;5;241m0.64\u001b[39m, \u001b[38;5;241m0.22\u001b[39m],\n\u001b[1;32m     18\u001b[0m ]\n",
      "\u001b[0;31mIndexError\u001b[0m: list index out of range"
     ]
    }
   ],
   "source": [
    "    # [dynamic_control]\n",
    "\n",
    "    observations = []\n",
    "    obj_templates_mgr.load_configs(\n",
    "        str(os.path.join(sim_data_path, \"objects/example_objects/\"))\n",
    "    )\n",
    "    # search for an object template by key sub-string\n",
    "    cheezit_template_handle = obj_templates_mgr.get_template_handles(\n",
    "        os.path.join(sim_data_path, \"objects/example_objects/cheezit\")\n",
    "    )[0]\n",
    "    # build multiple object initial positions\n",
    "    box_positions = [\n",
    "        [2.39, -0.37, 0.0],\n",
    "        [2.39, -0.64, 0.0],\n",
    "        [2.39, -0.91, 0.0],\n",
    "        [2.39, -0.64, -0.22],\n",
    "        [2.39, -0.64, 0.22],\n",
    "    ]\n",
    "    box_orientation = mn.Quaternion.rotation(mn.Deg(90.0), [-1.0, 0.0, 0.0])\n",
    "    # instance and place the boxes\n",
    "    boxes = []\n",
    "    for b in range(len(box_positions)):\n",
    "        boxes.append(\n",
    "            rigid_obj_mgr.add_object_by_template_handle(cheezit_template_handle)\n",
    "        )\n",
    "        boxes[b].translation = box_positions[b]\n",
    "        boxes[b].rotation = box_orientation\n",
    "\n",
    "    # anti-gravity force f=m(-g) using first object's mass (all objects have the same mass)\n",
    "    anti_grav_force = -1.0 * sim.get_gravity() * boxes[0].mass\n",
    "\n",
    "    # throw a sphere at the boxes from the agent position\n",
    "    sphere_template = obj_templates_mgr.get_template_by_id(sphere_template_id)\n",
    "    sphere_template.scale = [0.5, 0.5, 0.5]\n",
    "\n",
    "    obj_templates_mgr.register_template(sphere_template)\n",
    "\n",
    "    # create sphere\n",
    "    sphere_obj = rigid_obj_mgr.add_object_by_template_id(sphere_template_id)\n",
    "\n",
    "    sphere_obj.translation = sim.agents[0].get_state().position + [0.0, 1.0, 0.0]\n",
    "    # get the vector from the sphere to a box\n",
    "    target_direction = boxes[0].translation - sphere_obj.translation\n",
    "    # apply an initial velocity for one step\n",
    "    sphere_obj.linear_velocity = target_direction * 5\n",
    "    sphere_obj.angular_velocity = [0.0, -1.0, 0.0]\n",
    "\n",
    "    start_time = sim.get_world_time()\n",
    "    dt = 3.0\n",
    "    while sim.get_world_time() < start_time + dt:\n",
    "        # set forces/torques before stepping the world\n",
    "        for box in boxes:\n",
    "            box.apply_force(anti_grav_force, [0.0, 0.0, 0.0])\n",
    "            box.apply_torque([0.0, 0.01, 0.0])\n",
    "        sim.step_physics(1.0 / 60.0)\n",
    "        observations.append(sim.get_sensor_observations())\n",
    "\n",
    "    if make_video:\n",
    "        vut.make_video(\n",
    "            observations,\n",
    "            \"rgba_camera_1stperson\",\n",
    "            \"color\",\n",
    "            output_path + \"dynamic_control\",\n",
    "            open_vid=show_video,\n",
    "        )\n",
    "\n",
    "    # [/dynamic_control]\n",
    "    rigid_obj_mgr.remove_all_objects()"
   ]
  },
  {
   "cell_type": "code",
   "execution_count": null,
   "metadata": {
    "lines_to_next_cell": 0
   },
   "outputs": [],
   "source": [
    "    # [kinematic_interactions]\n",
    "\n",
    "    chefcan_template_handle = obj_templates_mgr.get_template_handles(\n",
    "        \"data/objects/example_objects/chefcan\"\n",
    "    )[0]\n",
    "    chefcan_obj = rigid_obj_mgr.add_object_by_template_handle(chefcan_template_handle)\n",
    "    chefcan_obj.translation = [2.4, -0.64, 0.0]\n",
    "    # set object to kinematic\n",
    "    chefcan_obj.motion_type = habitat_sim.physics.MotionType.KINEMATIC\n",
    "\n",
    "    # drop some dynamic objects\n",
    "    chefcan_obj_2 = rigid_obj_mgr.add_object_by_template_handle(chefcan_template_handle)\n",
    "    chefcan_obj_2.translation = [2.4, -0.64, 0.28]\n",
    "    chefcan_obj_3 = rigid_obj_mgr.add_object_by_template_handle(chefcan_template_handle)\n",
    "    chefcan_obj_3.translation = [2.4, -0.64, -0.28]\n",
    "    chefcan_obj_4 = rigid_obj_mgr.add_object_by_template_handle(chefcan_template_handle)\n",
    "    chefcan_obj_4.translation = [2.4, -0.3, 0.0]\n",
    "\n",
    "    # simulate\n",
    "    observations = simulate(sim, dt=1.5, get_frames=True)\n",
    "\n",
    "    if make_video:\n",
    "        vut.make_video(\n",
    "            observations,\n",
    "            \"rgba_camera_1stperson\",\n",
    "            \"color\",\n",
    "            output_path + \"kinematic_interactions\",\n",
    "            open_vid=show_video,\n",
    "        )\n",
    "\n",
    "    # [/kinematic_interactions]\n",
    "\n",
    "    rigid_obj_mgr.remove_all_objects()"
   ]
  },
  {
   "cell_type": "code",
   "execution_count": null,
   "metadata": {
    "lines_to_next_cell": 0
   },
   "outputs": [],
   "source": [
    "    # [kinematic_update]\n",
    "    observations = []\n",
    "\n",
    "    clamp_template_handle = obj_templates_mgr.get_template_handles(\n",
    "        \"data/objects/example_objects/largeclamp\"\n",
    "    )[0]\n",
    "    clamp_obj = rigid_obj_mgr.add_object_by_template_handle(clamp_template_handle)\n",
    "    clamp_obj.motion_type = habitat_sim.physics.MotionType.KINEMATIC\n",
    "    clamp_obj.translation = [0.8, 0.2, 0.5]\n",
    "\n",
    "    start_time = sim.get_world_time()\n",
    "    dt = 1.0\n",
    "    while sim.get_world_time() < start_time + dt:\n",
    "        # manually control the object's kinematic state\n",
    "        clamp_obj.translation += [0.0, 0.0, 0.01]\n",
    "        clamp_obj.rotation = (\n",
    "            mn.Quaternion.rotation(mn.Rad(0.05), [-1.0, 0.0, 0.0]) * clamp_obj.rotation\n",
    "        )\n",
    "        sim.step_physics(1.0 / 60.0)\n",
    "        observations.append(sim.get_sensor_observations())\n",
    "\n",
    "    if make_video:\n",
    "        vut.make_video(\n",
    "            observations,\n",
    "            \"rgba_camera_1stperson\",\n",
    "            \"color\",\n",
    "            output_path + \"kinematic_update\",\n",
    "            open_vid=show_video,\n",
    "        )\n",
    "\n",
    "    # [/kinematic_update]"
   ]
  },
  {
   "cell_type": "code",
   "execution_count": null,
   "metadata": {
    "lines_to_next_cell": 0
   },
   "outputs": [],
   "source": [
    "    # [velocity_control]\n",
    "\n",
    "    # get object VelocityControl structure and setup control\n",
    "    vel_control = clamp_obj.velocity_control\n",
    "    vel_control.linear_velocity = [0.0, 0.0, -1.0]\n",
    "    vel_control.angular_velocity = [4.0, 0.0, 0.0]\n",
    "    vel_control.controlling_lin_vel = True\n",
    "    vel_control.controlling_ang_vel = True\n",
    "\n",
    "    observations = simulate(sim, dt=1.0, get_frames=True)\n",
    "\n",
    "    # reverse linear direction\n",
    "    vel_control.linear_velocity = [0.0, 0.0, 1.0]\n",
    "\n",
    "    observations += simulate(sim, dt=1.0, get_frames=True)\n",
    "\n",
    "    if make_video:\n",
    "        vut.make_video(\n",
    "            observations,\n",
    "            \"rgba_camera_1stperson\",\n",
    "            \"color\",\n",
    "            output_path + \"velocity_control\",\n",
    "            open_vid=show_video,\n",
    "        )\n",
    "\n",
    "    # [/velocity_control]"
   ]
  },
  {
   "cell_type": "code",
   "execution_count": null,
   "metadata": {
    "lines_to_next_cell": 0
   },
   "outputs": [],
   "source": [
    "    # [local_velocity_control]\n",
    "\n",
    "    vel_control.linear_velocity = [0.0, 0.0, 2.3]\n",
    "    vel_control.angular_velocity = [-4.3, 0.0, 0.0]\n",
    "    vel_control.lin_vel_is_local = True\n",
    "    vel_control.ang_vel_is_local = True\n",
    "\n",
    "    observations = simulate(sim, dt=1.5, get_frames=True)\n",
    "\n",
    "    # video rendering\n",
    "    if make_video:\n",
    "        vut.make_video(\n",
    "            observations,\n",
    "            \"rgba_camera_1stperson\",\n",
    "            \"color\",\n",
    "            output_path + \"local_velocity_control\",\n",
    "            open_vid=show_video,\n",
    "        )\n",
    "\n",
    "    # [/local_velocity_control]\n",
    "    rigid_obj_mgr.remove_all_objects()"
   ]
  },
  {
   "cell_type": "code",
   "execution_count": null,
   "metadata": {},
   "outputs": [],
   "source": [
    "    # [embodied_agent]\n",
    "\n",
    "    # load the locobot_merged asset\n",
    "    locobot_template_id = obj_templates_mgr.load_configs(\n",
    "        str(os.path.join(data_path, \"objects/locobot_merged\"))\n",
    "    )[0]\n",
    "\n",
    "    # add robot object to the scene with the agent/camera SceneNode attached\n",
    "    locobot = rigid_obj_mgr.add_object_by_template_id(\n",
    "        locobot_template_id, sim.agents[0].scene_node\n",
    "    )\n",
    "    locobot.translation = [1.75, -1.02, 0.4]\n",
    "\n",
    "    vel_control = locobot.velocity_control\n",
    "    vel_control.linear_velocity = [0.0, 0.0, -1.0]\n",
    "    vel_control.angular_velocity = [0.0, 2.0, 0.0]\n",
    "\n",
    "    # simulate robot dropping into place\n",
    "    observations = simulate(sim, dt=1.5, get_frames=make_video)\n",
    "\n",
    "    vel_control.controlling_lin_vel = True\n",
    "    vel_control.controlling_ang_vel = True\n",
    "    vel_control.lin_vel_is_local = True\n",
    "    vel_control.ang_vel_is_local = True\n",
    "\n",
    "    # simulate forward and turn\n",
    "    observations += simulate(sim, dt=1.0, get_frames=make_video)\n",
    "\n",
    "    vel_control.controlling_lin_vel = False\n",
    "    vel_control.angular_velocity = [0.0, 1.0, 0.0]\n",
    "\n",
    "    # simulate turn only\n",
    "    observations += simulate(sim, dt=1.5, get_frames=make_video)\n",
    "\n",
    "    vel_control.angular_velocity = [0.0, 0.0, 0.0]\n",
    "    vel_control.controlling_lin_vel = True\n",
    "    vel_control.controlling_ang_vel = True\n",
    "\n",
    "    # simulate forward only with damped angular velocity (reset angular velocity to 0 after each step)\n",
    "    observations += simulate(sim, dt=1.0, get_frames=make_video)\n",
    "\n",
    "    vel_control.angular_velocity = [0.0, -1.25, 0.0]\n",
    "\n",
    "    # simulate forward and turn\n",
    "    observations += simulate(sim, dt=2.0, get_frames=make_video)\n",
    "\n",
    "    vel_control.controlling_ang_vel = False\n",
    "    vel_control.controlling_lin_vel = False\n",
    "\n",
    "    # simulate settling\n",
    "    observations += simulate(sim, dt=3.0, get_frames=make_video)\n",
    "\n",
    "    # remove the agent's body while preserving the SceneNode\n",
    "    rigid_obj_mgr.remove_object_by_id(locobot.object_id, delete_object_node=False)\n",
    "\n",
    "    # demonstrate that the locobot object does not now exist'\n",
    "    print(\"Locobot is still alive : {}\".format(locobot.is_alive))\n",
    "\n",
    "    # video rendering with embedded 1st person view\n",
    "    if make_video:\n",
    "        vut.make_video(\n",
    "            observations,\n",
    "            \"rgba_camera_1stperson\",\n",
    "            \"color\",\n",
    "            output_path + \"robot_control\",\n",
    "            open_vid=show_video,\n",
    "        )\n",
    "\n",
    "    # [/embodied_agent]"
   ]
  },
  {
   "cell_type": "code",
   "execution_count": null,
   "metadata": {},
   "outputs": [],
   "source": [
    "    # [embodied_agent_navmesh]\n",
    "\n",
    "    # load the locobot_merged asset\n",
    "    locobot_template_id = obj_templates_mgr.load_configs(\n",
    "        str(os.path.join(data_path, \"objects/locobot_merged\"))\n",
    "    )[0]\n",
    "    # add robot object to the scene with the agent/camera SceneNode attached\n",
    "    locobot = rigid_obj_mgr.add_object_by_template_id(\n",
    "        locobot_template_id, sim.agents[0].scene_node\n",
    "    )\n",
    "    initial_rotation = locobot.rotation\n",
    "\n",
    "    # set the agent's body to kinematic since we will be updating position manually\n",
    "    locobot.motion_type = habitat_sim.physics.MotionType.KINEMATIC\n",
    "\n",
    "    # create and configure a new VelocityControl structure\n",
    "    # Note: this is NOT the object's VelocityControl, so it will not be consumed automatically in sim.step_physics\n",
    "    vel_control = habitat_sim.physics.VelocityControl()\n",
    "    vel_control.controlling_lin_vel = True\n",
    "    vel_control.lin_vel_is_local = True\n",
    "    vel_control.controlling_ang_vel = True\n",
    "    vel_control.ang_vel_is_local = True\n",
    "    vel_control.linear_velocity = [0.0, 0.0, -1.0]\n",
    "\n",
    "    # try 2 variations of the control experiment\n",
    "    for iteration in range(2):\n",
    "        # reset observations and robot state\n",
    "        observations = []\n",
    "        locobot.translation = [1.75, -1.02, 0.4]\n",
    "        locobot.rotation = initial_rotation\n",
    "        vel_control.angular_velocity = [0.0, 0.0, 0.0]\n",
    "\n",
    "        video_prefix = \"robot_control_sliding\"\n",
    "        # turn sliding off for the 2nd pass\n",
    "        if iteration == 1:\n",
    "            sim.config.sim_cfg.allow_sliding = False\n",
    "            video_prefix = \"robot_control_no_sliding\"\n",
    "\n",
    "        # manually control the object's kinematic state via velocity integration\n",
    "        start_time = sim.get_world_time()\n",
    "        last_velocity_set = 0\n",
    "        dt = 6.0\n",
    "        time_step = 1.0 / 60.0\n",
    "        while sim.get_world_time() < start_time + dt:\n",
    "            previous_rigid_state = locobot.rigid_state\n",
    "\n",
    "            # manually integrate the rigid state\n",
    "            target_rigid_state = vel_control.integrate_transform(\n",
    "                time_step, previous_rigid_state\n",
    "            )\n",
    "\n",
    "            # snap rigid state to navmesh and set state to object/agent\n",
    "            end_pos = sim.step_filter(\n",
    "                previous_rigid_state.translation, target_rigid_state.translation\n",
    "            )\n",
    "            locobot.translation = end_pos\n",
    "            locobot.rotation = target_rigid_state.rotation\n",
    "\n",
    "            # Check if a collision occurred\n",
    "            dist_moved_before_filter = (\n",
    "                target_rigid_state.translation - previous_rigid_state.translation\n",
    "            ).dot()\n",
    "            dist_moved_after_filter = (end_pos - previous_rigid_state.translation).dot()\n",
    "\n",
    "            # NB: There are some cases where ||filter_end - end_pos|| > 0 when a\n",
    "            # collision _didn't_ happen. One such case is going up stairs.  Instead,\n",
    "            # we check to see if the the amount moved after the application of the filter\n",
    "            # is _less_ than the amount moved before the application of the filter\n",
    "            EPS = 1e-5\n",
    "            collided = (dist_moved_after_filter + EPS) < dist_moved_before_filter\n",
    "\n",
    "            # run any dynamics simulation\n",
    "            sim.step_physics(time_step)\n",
    "\n",
    "            # render observation\n",
    "            observations.append(sim.get_sensor_observations())\n",
    "\n",
    "            # randomize angular velocity\n",
    "            last_velocity_set += time_step\n",
    "            if last_velocity_set >= 1.0:\n",
    "                vel_control.angular_velocity = [0.0, (random.random() - 0.5) * 2.0, 0.0]\n",
    "                last_velocity_set = 0\n",
    "\n",
    "        # video rendering with embedded 1st person views\n",
    "        if make_video:\n",
    "            sensor_dims = (\n",
    "                sim.get_agent(0).agent_config.sensor_specifications[0].resolution\n",
    "            )\n",
    "            overlay_dims = (int(sensor_dims[1] / 4), int(sensor_dims[0] / 4))\n",
    "            overlay_settings = [\n",
    "                {\n",
    "                    \"obs\": \"rgba_camera_1stperson\",\n",
    "                    \"type\": \"color\",\n",
    "                    \"dims\": overlay_dims,\n",
    "                    \"pos\": (10, 10),\n",
    "                    \"border\": 2,\n",
    "                },\n",
    "                {\n",
    "                    \"obs\": \"depth_camera_1stperson\",\n",
    "                    \"type\": \"depth\",\n",
    "                    \"dims\": overlay_dims,\n",
    "                    \"pos\": (10, 30 + overlay_dims[1]),\n",
    "                    \"border\": 2,\n",
    "                },\n",
    "            ]\n",
    "\n",
    "            vut.make_video(\n",
    "                observations=observations,\n",
    "                primary_obs=\"rgba_camera_3rdperson\",\n",
    "                primary_obs_type=\"color\",\n",
    "                video_file=output_path + video_prefix,\n",
    "                fps=60,\n",
    "                open_vid=show_video,\n",
    "                overlay_settings=overlay_settings,\n",
    "                depth_clip=10.0,\n",
    "            )\n",
    "\n",
    "    # [/embodied_agent_navmesh]"
   ]
  }
 ],
 "metadata": {
  "accelerator": "GPU",
  "jupytext": {
   "cell_metadata_filter": "-all",
   "formats": "nb_python//py:percent,notebooks//ipynb",
   "main_language": "python",
   "notebook_metadata_filter": "all"
  },
  "kernelspec": {
   "display_name": "habitat",
   "language": "python",
   "name": "habitat"
  }
 },
 "nbformat": 4,
 "nbformat_minor": 4
}
