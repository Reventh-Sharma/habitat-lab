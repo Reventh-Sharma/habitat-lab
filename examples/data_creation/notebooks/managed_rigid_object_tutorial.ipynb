{
 "cells": [
  {
   "cell_type": "code",
   "execution_count": 1,
   "metadata": {},
   "outputs": [
    {
     "name": "stderr",
     "output_type": "stream",
     "text": [
      "/data/reventh/anaconda3/envs/habitat/lib/python3.9/site-packages/tqdm/auto.py:21: TqdmWarning: IProgress not found. Please update jupyter and ipywidgets. See https://ipywidgets.readthedocs.io/en/stable/user_install.html\n",
      "  from .autonotebook import tqdm as notebook_tqdm\n"
     ]
    }
   ],
   "source": [
    "## [setup]\n",
    "import os\n",
    "import random\n",
    "\n",
    "import git\n",
    "import magnum as mn\n",
    "import numpy as np\n",
    "\n",
    "import habitat_sim\n",
    "from habitat_sim.utils import viz_utils as vut\n",
    "\n",
    "repo = git.Repo(\".\", search_parent_directories=True)\n",
    "dir_path = repo.working_tree_dir\n",
    "data_path = os.path.join(dir_path, \"data\")\n",
    "output_path = os.path.join(\n",
    "    dir_path, \"examples/tutorials/managed_rigid_object_tutorial_output/\"\n",
    ")\n",
    "\n",
    "\n",
    "def place_agent(sim):\n",
    "    # place our agent in the scene\n",
    "    agent_state = habitat_sim.AgentState()\n",
    "    agent_state.position = [-0.15, -0.7, 1.0]\n",
    "    agent_state.rotation = np.quaternion(-0.83147, 0, 0.55557, 0)\n",
    "    agent = sim.initialize_agent(0, agent_state)\n",
    "    return agent.scene_node.transformation_matrix()\n",
    "\n",
    "\n",
    "def make_configuration():\n",
    "    # simulator configuration\n",
    "    backend_cfg = habitat_sim.SimulatorConfiguration()\n",
    "    backend_cfg.scene_id = os.path.join(\n",
    "        data_path, \"scene_datasets/habitat-test-scenes/apartment_1.glb\"\n",
    "    )\n",
    "    assert os.path.exists(backend_cfg.scene_id)\n",
    "\n",
    "    # sensor configurations\n",
    "    # Note: all sensors must have the same resolution\n",
    "    # setup 2 rgb sensors for 1st and 3rd person views\n",
    "    camera_resolution = [544, 720]\n",
    "    sensor_specs = []\n",
    "\n",
    "    rgba_camera_1stperson_spec = habitat_sim.CameraSensorSpec()\n",
    "    rgba_camera_1stperson_spec.uuid = \"rgba_camera_1stperson\"\n",
    "    rgba_camera_1stperson_spec.sensor_type = habitat_sim.SensorType.COLOR\n",
    "    rgba_camera_1stperson_spec.resolution = camera_resolution\n",
    "    rgba_camera_1stperson_spec.position = [0.0, 0.6, 0.0]\n",
    "    rgba_camera_1stperson_spec.orientation = [0.0, 0.0, 0.0]\n",
    "    rgba_camera_1stperson_spec.sensor_subtype = habitat_sim.SensorSubType.PINHOLE\n",
    "    sensor_specs.append(rgba_camera_1stperson_spec)\n",
    "\n",
    "    depth_camera_1stperson_spec = habitat_sim.CameraSensorSpec()\n",
    "    depth_camera_1stperson_spec.uuid = \"depth_camera_1stperson\"\n",
    "    depth_camera_1stperson_spec.sensor_type = habitat_sim.SensorType.DEPTH\n",
    "    depth_camera_1stperson_spec.resolution = camera_resolution\n",
    "    depth_camera_1stperson_spec.position = [0.0, 0.6, 0.0]\n",
    "    depth_camera_1stperson_spec.orientation = [0.0, 0.0, 0.0]\n",
    "    depth_camera_1stperson_spec.sensor_subtype = habitat_sim.SensorSubType.PINHOLE\n",
    "    sensor_specs.append(depth_camera_1stperson_spec)\n",
    "\n",
    "    rgba_camera_3rdperson_spec = habitat_sim.CameraSensorSpec()\n",
    "    rgba_camera_3rdperson_spec.uuid = \"rgba_camera_3rdperson\"\n",
    "    rgba_camera_3rdperson_spec.sensor_type = habitat_sim.SensorType.COLOR\n",
    "    rgba_camera_3rdperson_spec.resolution = camera_resolution\n",
    "    rgba_camera_3rdperson_spec.position = [0.0, 1.0, 0.3]\n",
    "    rgba_camera_3rdperson_spec.orientation = [-45.0, 0.0, 0.0]\n",
    "    rgba_camera_3rdperson_spec.sensor_subtype = habitat_sim.SensorSubType.PINHOLE\n",
    "    sensor_specs.append(rgba_camera_3rdperson_spec)\n",
    "\n",
    "    # agent configuration\n",
    "    agent_cfg = habitat_sim.agent.AgentConfiguration()\n",
    "    agent_cfg.sensor_specifications = sensor_specs\n",
    "\n",
    "    return habitat_sim.Configuration(backend_cfg, [agent_cfg])\n",
    "\n",
    "\n",
    "def simulate(sim, dt=1.0, get_frames=True):\n",
    "    # simulate dt seconds at 60Hz to the nearest fixed timestep\n",
    "    print(\"Simulating \" + str(dt) + \" world seconds.\")\n",
    "    observations = []\n",
    "    start_time = sim.get_world_time()\n",
    "    while sim.get_world_time() < start_time + dt:\n",
    "        sim.step_physics(1.0 / 60.0)\n",
    "        if get_frames:\n",
    "            observations.append(sim.get_sensor_observations())\n",
    "\n",
    "    return observations\n",
    "\n",
    "\n",
    "# [/setup]\n",
    "if __name__ == \"__main__\":\n",
    "    import argparse\n",
    "\n",
    "    parser = argparse.ArgumentParser()\n",
    "    parser.add_argument(\"--no-show-video\", dest=\"show_video\", action=\"store_false\")\n",
    "    parser.add_argument(\"--no-make-video\", dest=\"make_video\", action=\"store_false\")\n",
    "    parser.set_defaults(show_video=True, make_video=True)\n",
    "    args, _ = parser.parse_known_args()\n",
    "    show_video = args.show_video\n",
    "    make_video = args.make_video\n",
    "    if make_video and not os.path.exists(output_path):\n",
    "        os.mkdir(output_path)"
   ]
  },
  {
   "cell_type": "code",
   "execution_count": 2,
   "metadata": {},
   "outputs": [
    {
     "name": "stdout",
     "output_type": "stream",
     "text": [
      "Renderer: NVIDIA GeForce RTX 3090/PCIe/SSE2 by NVIDIA Corporation\n",
      "OpenGL version: 4.6.0 NVIDIA 535.129.03\n",
      "Using optional features:\n",
      "    GL_ARB_vertex_array_object\n",
      "    GL_ARB_separate_shader_objects\n",
      "    GL_ARB_robustness\n",
      "    GL_ARB_texture_storage\n",
      "    GL_ARB_texture_view\n",
      "    GL_ARB_framebuffer_no_attachments\n",
      "    GL_ARB_invalidate_subdata\n",
      "    GL_ARB_texture_storage_multisample\n",
      "    GL_ARB_multi_bind\n",
      "    GL_ARB_direct_state_access\n",
      "    GL_ARB_get_texture_sub_image\n",
      "    GL_ARB_texture_filter_anisotropic\n",
      "    GL_KHR_debug\n",
      "    GL_KHR_parallel_shader_compile\n",
      "    GL_NV_depth_buffer_float\n",
      "Using driver workarounds:\n",
      "    no-forward-compatible-core-context\n",
      "    nv-egl-incorrect-gl11-function-pointers\n",
      "    no-layout-qualifiers-on-old-glsl\n",
      "    nv-zero-context-profile-mask\n",
      "    nv-implementation-color-read-format-dsa-broken\n",
      "    nv-cubemap-inconsistent-compressed-image-size\n",
      "    nv-cubemap-broken-full-compressed-image-query\n",
      "    nv-compressed-block-size-in-bits\n"
     ]
    },
    {
     "name": "stderr",
     "output_type": "stream",
     "text": [
      "PluginManager::Manager: duplicate static plugin StbImageImporter, ignoring\n",
      "PluginManager::Manager: duplicate static plugin GltfImporter, ignoring\n",
      "PluginManager::Manager: duplicate static plugin BasisImporter, ignoring\n",
      "PluginManager::Manager: duplicate static plugin AssimpImporter, ignoring\n",
      "PluginManager::Manager: duplicate static plugin AnySceneImporter, ignoring\n",
      "PluginManager::Manager: duplicate static plugin AnyImageImporter, ignoring\n",
      "[00:32:08:956801]:[Warning]:[Metadata] SceneDatasetAttributes.cpp(107)::addNewSceneInstanceToDataset : Dataset : 'default' : Lighting Layout Attributes 'no_lights' specified in Scene Attributes but does not exist in dataset, so creating default.\n",
      "[00:32:08:956932]:[Warning]:[Scene] SemanticScene.h(328)::checkFileExists : ::loadSemanticSceneDescriptor: File/data/reventh/habitat-lab/data/scene_datasets/habitat-test-scenes/apartment_1.scndoes not exist.  Aborting load.\n",
      "[00:32:08:956947]:[Warning]:[Scene] SemanticScene.cpp(121)::loadSemanticSceneDescriptor : SSD File Naming Issue! Neither SemanticAttributes-provided name : `/data/reventh/habitat-lab/data/scene_datasets/habitat-test-scenes/apartment_1.scn` nor constructed filename : `/data/reventh/habitat-lab/data/scene_datasets/habitat-test-scenes/info_semantic.json` exist on disk.\n",
      "[00:32:08:956954]:[Error]:[Scene] SemanticScene.cpp(137)::loadSemanticSceneDescriptor : SSD Load Failure! File with SemanticAttributes-provided name `/data/reventh/habitat-lab/data/scene_datasets/habitat-test-scenes/apartment_1.scn` exists but failed to load.\n",
      "[00:32:09:802455]:[Warning]:[Sim] Simulator.cpp(594)::instanceStageForSceneAttributes : The active scene does not contain semantic annotations : activeSemanticSceneID_ = 0\n"
     ]
    }
   ],
   "source": [
    "    # [initialize]\n",
    "    # create the simulators AND resets the simulator\n",
    "\n",
    "    cfg = make_configuration()\n",
    "    try:  # Got to make initialization idiot proof\n",
    "        sim.close()\n",
    "    except NameError:\n",
    "        pass\n",
    "    sim = habitat_sim.Simulator(cfg)\n",
    "    agent_transform = place_agent(sim)\n",
    "\n",
    "    # get the primitive assets attributes manager\n",
    "    prim_templates_mgr = sim.get_asset_template_manager()\n",
    "\n",
    "    # get the physics object attributes manager\n",
    "    obj_templates_mgr = sim.get_object_template_manager()\n",
    "\n",
    "    # get the rigid object manager\n",
    "    rigid_obj_mgr = sim.get_rigid_object_manager()\n",
    "    # [/initialize]"
   ]
  },
  {
   "cell_type": "code",
   "execution_count": 3,
   "metadata": {},
   "outputs": [
    {
     "data": {
      "text/plain": [
       "[]"
      ]
     },
     "execution_count": 3,
     "metadata": {},
     "output_type": "execute_result"
    }
   ],
   "source": [
    "obj_templates_mgr.get_file_template_handles()"
   ]
  },
  {
   "cell_type": "code",
   "execution_count": 4,
   "metadata": {
    "lines_to_next_cell": 0
   },
   "outputs": [
    {
     "name": "stdout",
     "output_type": "stream",
     "text": [
      "Simulating 1.5 world seconds.\n",
      "Encoding the video: /data/reventh/habitat-lab/examples/tutorials/managed_rigid_object_tutorial_output/sim_basics.mp4 \n"
     ]
    },
    {
     "name": "stderr",
     "output_type": "stream",
     "text": [
      "/data/reventh/habitat-lab/examples/tutorials/managed_rigid_object_tutorial_output/sim_basics.mp4: Permission denied\n"
     ]
    },
    {
     "ename": "OSError",
     "evalue": "[Errno 32] Broken pipe\n\nFFMPEG COMMAND:\n/data/reventh/anaconda3/envs/habitat/bin/ffmpeg -y -f rawvideo -vcodec rawvideo -s 720x544 -pix_fmt rgba -r 60.00 -i - -an -vcodec libx264 -pix_fmt yuv420p -v warning /data/reventh/habitat-lab/examples/tutorials/managed_rigid_object_tutorial_output/sim_basics.mp4\n\nFFMPEG STDERR OUTPUT:\n",
     "output_type": "error",
     "traceback": [
      "\u001b[0;31m---------------------------------------------------------------------------\u001b[0m",
      "\u001b[0;31mBrokenPipeError\u001b[0m                           Traceback (most recent call last)",
      "File \u001b[0;32m/data/reventh/anaconda3/envs/habitat/lib/python3.9/site-packages/imageio_ffmpeg/_io.py:627\u001b[0m, in \u001b[0;36mwrite_frames\u001b[0;34m(path, size, pix_fmt_in, pix_fmt_out, fps, quality, bitrate, codec, macro_block_size, ffmpeg_log_level, ffmpeg_timeout, input_params, output_params, audio_path, audio_codec)\u001b[0m\n\u001b[1;32m    626\u001b[0m \u001b[38;5;28;01mtry\u001b[39;00m:\n\u001b[0;32m--> 627\u001b[0m     \u001b[43mp\u001b[49m\u001b[38;5;241;43m.\u001b[39;49m\u001b[43mstdin\u001b[49m\u001b[38;5;241;43m.\u001b[39;49m\u001b[43mwrite\u001b[49m\u001b[43m(\u001b[49m\u001b[43mbb\u001b[49m\u001b[43m)\u001b[49m\n\u001b[1;32m    628\u001b[0m \u001b[38;5;28;01mexcept\u001b[39;00m \u001b[38;5;167;01mException\u001b[39;00m \u001b[38;5;28;01mas\u001b[39;00m err:\n\u001b[1;32m    629\u001b[0m     \u001b[38;5;66;03m# Show the command and stderr from pipe\u001b[39;00m\n",
      "\u001b[0;31mBrokenPipeError\u001b[0m: [Errno 32] Broken pipe",
      "\nDuring handling of the above exception, another exception occurred:\n",
      "\u001b[0;31mOSError\u001b[0m                                   Traceback (most recent call last)",
      "Cell \u001b[0;32mIn[4], line 17\u001b[0m\n\u001b[1;32m     14\u001b[0m observations \u001b[38;5;241m=\u001b[39m simulate(sim, dt\u001b[38;5;241m=\u001b[39m\u001b[38;5;241m1.5\u001b[39m, get_frames\u001b[38;5;241m=\u001b[39mmake_video)\n\u001b[1;32m     16\u001b[0m \u001b[38;5;28;01mif\u001b[39;00m make_video:\n\u001b[0;32m---> 17\u001b[0m     \u001b[43mvut\u001b[49m\u001b[38;5;241;43m.\u001b[39;49m\u001b[43mmake_video\u001b[49m\u001b[43m(\u001b[49m\n\u001b[1;32m     18\u001b[0m \u001b[43m        \u001b[49m\u001b[43mobservations\u001b[49m\u001b[43m,\u001b[49m\n\u001b[1;32m     19\u001b[0m \u001b[43m        \u001b[49m\u001b[38;5;124;43m\"\u001b[39;49m\u001b[38;5;124;43mrgba_camera_1stperson\u001b[39;49m\u001b[38;5;124;43m\"\u001b[39;49m\u001b[43m,\u001b[49m\n\u001b[1;32m     20\u001b[0m \u001b[43m        \u001b[49m\u001b[38;5;124;43m\"\u001b[39;49m\u001b[38;5;124;43mcolor\u001b[39;49m\u001b[38;5;124;43m\"\u001b[39;49m\u001b[43m,\u001b[49m\n\u001b[1;32m     21\u001b[0m \u001b[43m        \u001b[49m\u001b[43moutput_path\u001b[49m\u001b[43m \u001b[49m\u001b[38;5;241;43m+\u001b[39;49m\u001b[43m \u001b[49m\u001b[38;5;124;43m\"\u001b[39;49m\u001b[38;5;124;43msim_basics\u001b[39;49m\u001b[38;5;124;43m\"\u001b[39;49m\u001b[43m,\u001b[49m\n\u001b[1;32m     22\u001b[0m \u001b[43m        \u001b[49m\u001b[43mopen_vid\u001b[49m\u001b[38;5;241;43m=\u001b[39;49m\u001b[43mshow_video\u001b[49m\u001b[43m,\u001b[49m\n\u001b[1;32m     23\u001b[0m \u001b[43m    \u001b[49m\u001b[43m)\u001b[49m\n\u001b[1;32m     25\u001b[0m \u001b[38;5;66;03m# [/basics]\u001b[39;00m\n\u001b[1;32m     26\u001b[0m rigid_obj_mgr\u001b[38;5;241m.\u001b[39mremove_all_objects()\n",
      "File \u001b[0;32m/data/reventh/anaconda3/envs/habitat/lib/python3.9/site-packages/habitat_sim-0.3.1-py3.9-linux-x86_64.egg/habitat_sim/utils/viz_utils.py:251\u001b[0m, in \u001b[0;36mmake_video\u001b[0;34m(observations, primary_obs, primary_obs_type, video_file, fps, open_vid, video_dims, overlay_settings, depth_clip, observation_to_image)\u001b[0m\n\u001b[1;32m    241\u001b[0m     image_frame \u001b[38;5;241m=\u001b[39m make_video_frame(\n\u001b[1;32m    242\u001b[0m         ob,\n\u001b[1;32m    243\u001b[0m         primary_obs,\n\u001b[0;32m   (...)\u001b[0m\n\u001b[1;32m    247\u001b[0m         observation_to_image\u001b[38;5;241m=\u001b[39mobservation_to_image,\n\u001b[1;32m    248\u001b[0m     )\n\u001b[1;32m    250\u001b[0m     \u001b[38;5;66;03m# write the desired image to video\u001b[39;00m\n\u001b[0;32m--> 251\u001b[0m     \u001b[43mwriter\u001b[49m\u001b[38;5;241;43m.\u001b[39;49m\u001b[43mappend_data\u001b[49m\u001b[43m(\u001b[49m\u001b[43mnp\u001b[49m\u001b[38;5;241;43m.\u001b[39;49m\u001b[43marray\u001b[49m\u001b[43m(\u001b[49m\u001b[43mimage_frame\u001b[49m\u001b[43m)\u001b[49m\u001b[43m)\u001b[49m\n\u001b[1;32m    253\u001b[0m writer\u001b[38;5;241m.\u001b[39mclose()\n\u001b[1;32m    254\u001b[0m \u001b[38;5;28;01mif\u001b[39;00m open_vid:\n",
      "File \u001b[0;32m/data/reventh/anaconda3/envs/habitat/lib/python3.9/site-packages/imageio/core/format.py:590\u001b[0m, in \u001b[0;36mFormat.Writer.append_data\u001b[0;34m(self, im, meta)\u001b[0m\n\u001b[1;32m    588\u001b[0m im \u001b[38;5;241m=\u001b[39m asarray(im)\n\u001b[1;32m    589\u001b[0m \u001b[38;5;66;03m# Call\u001b[39;00m\n\u001b[0;32m--> 590\u001b[0m \u001b[38;5;28;01mreturn\u001b[39;00m \u001b[38;5;28;43mself\u001b[39;49m\u001b[38;5;241;43m.\u001b[39;49m\u001b[43m_append_data\u001b[49m\u001b[43m(\u001b[49m\u001b[43mim\u001b[49m\u001b[43m,\u001b[49m\u001b[43m \u001b[49m\u001b[43mtotal_meta\u001b[49m\u001b[43m)\u001b[49m\n",
      "File \u001b[0;32m/data/reventh/anaconda3/envs/habitat/lib/python3.9/site-packages/imageio/plugins/ffmpeg.py:600\u001b[0m, in \u001b[0;36mFfmpegFormat.Writer._append_data\u001b[0;34m(self, im, meta)\u001b[0m\n\u001b[1;32m    597\u001b[0m \u001b[38;5;28;01massert\u001b[39;00m \u001b[38;5;28mself\u001b[39m\u001b[38;5;241m.\u001b[39m_write_gen \u001b[38;5;129;01mis\u001b[39;00m \u001b[38;5;129;01mnot\u001b[39;00m \u001b[38;5;28;01mNone\u001b[39;00m  \u001b[38;5;66;03m# Check status\u001b[39;00m\n\u001b[1;32m    599\u001b[0m \u001b[38;5;66;03m# Write. Yes, we can send the data in as a numpy array\u001b[39;00m\n\u001b[0;32m--> 600\u001b[0m \u001b[38;5;28;43mself\u001b[39;49m\u001b[38;5;241;43m.\u001b[39;49m\u001b[43m_write_gen\u001b[49m\u001b[38;5;241;43m.\u001b[39;49m\u001b[43msend\u001b[49m\u001b[43m(\u001b[49m\u001b[43mim\u001b[49m\u001b[43m)\u001b[49m\n",
      "File \u001b[0;32m/data/reventh/anaconda3/envs/habitat/lib/python3.9/site-packages/imageio_ffmpeg/_io.py:634\u001b[0m, in \u001b[0;36mwrite_frames\u001b[0;34m(path, size, pix_fmt_in, pix_fmt_out, fps, quality, bitrate, codec, macro_block_size, ffmpeg_log_level, ffmpeg_timeout, input_params, output_params, audio_path, audio_codec)\u001b[0m\n\u001b[1;32m    628\u001b[0m         \u001b[38;5;28;01mexcept\u001b[39;00m \u001b[38;5;167;01mException\u001b[39;00m \u001b[38;5;28;01mas\u001b[39;00m err:\n\u001b[1;32m    629\u001b[0m             \u001b[38;5;66;03m# Show the command and stderr from pipe\u001b[39;00m\n\u001b[1;32m    630\u001b[0m             msg \u001b[38;5;241m=\u001b[39m (\n\u001b[1;32m    631\u001b[0m                 \u001b[38;5;124m\"\u001b[39m\u001b[38;5;132;01m{0:}\u001b[39;00m\u001b[38;5;130;01m\\n\u001b[39;00m\u001b[38;5;130;01m\\n\u001b[39;00m\u001b[38;5;124mFFMPEG COMMAND:\u001b[39m\u001b[38;5;130;01m\\n\u001b[39;00m\u001b[38;5;132;01m{1:}\u001b[39;00m\u001b[38;5;130;01m\\n\u001b[39;00m\u001b[38;5;130;01m\\n\u001b[39;00m\u001b[38;5;124mFFMPEG STDERR \u001b[39m\u001b[38;5;124m\"\u001b[39m\n\u001b[1;32m    632\u001b[0m                 \u001b[38;5;124m\"\u001b[39m\u001b[38;5;124mOUTPUT:\u001b[39m\u001b[38;5;130;01m\\n\u001b[39;00m\u001b[38;5;124m\"\u001b[39m\u001b[38;5;241m.\u001b[39mformat(err, cmd_str)\n\u001b[1;32m    633\u001b[0m             )\n\u001b[0;32m--> 634\u001b[0m             \u001b[38;5;28;01mraise\u001b[39;00m \u001b[38;5;167;01mIOError\u001b[39;00m(msg)\n\u001b[1;32m    636\u001b[0m         nframes \u001b[38;5;241m+\u001b[39m\u001b[38;5;241m=\u001b[39m \u001b[38;5;241m1\u001b[39m\n\u001b[1;32m    638\u001b[0m \u001b[38;5;28;01mexcept\u001b[39;00m \u001b[38;5;167;01mGeneratorExit\u001b[39;00m:\n\u001b[1;32m    639\u001b[0m     \u001b[38;5;66;03m# Note that GeneratorExit does not inherit from Exception but BaseException\u001b[39;00m\n\u001b[1;32m    640\u001b[0m     \u001b[38;5;66;03m# Detect premature closing\u001b[39;00m\n",
      "\u001b[0;31mOSError\u001b[0m: [Errno 32] Broken pipe\n\nFFMPEG COMMAND:\n/data/reventh/anaconda3/envs/habitat/bin/ffmpeg -y -f rawvideo -vcodec rawvideo -s 720x544 -pix_fmt rgba -r 60.00 -i - -an -vcodec libx264 -pix_fmt yuv420p -v warning /data/reventh/habitat-lab/examples/tutorials/managed_rigid_object_tutorial_output/sim_basics.mp4\n\nFFMPEG STDERR OUTPUT:\n"
     ]
    }
   ],
   "source": [
    "    # [basics]\n",
    "    sim_data_path = '/data/reventh/habitat-sim/data'\n",
    "    # load some object templates from configuration files\n",
    "    sphere_template_id = obj_templates_mgr.load_configs(\n",
    "        str(os.path.join(sim_data_path, \"test_assets/objects/sphere\"))\n",
    "    )[0]\n",
    "\n",
    "    # add a sphere to the scene, returns the object\n",
    "    sphere_obj = rigid_obj_mgr.add_object_by_template_id(sphere_template_id)\n",
    "    # move sphere\n",
    "    sphere_obj.translation = [2.50, 0.0, 0.2]\n",
    "\n",
    "    # simulate\n",
    "    observations = simulate(sim, dt=1.5, get_frames=make_video)\n",
    "\n",
    "    if make_video:\n",
    "        vut.make_video(\n",
    "            observations,\n",
    "            \"rgba_camera_1stperson\",\n",
    "            \"color\",\n",
    "            output_path + \"sim_basics\",\n",
    "            open_vid=show_video,\n",
    "        )\n",
    "\n",
    "    # [/basics]\n",
    "    rigid_obj_mgr.remove_all_objects()"
   ]
  },
  {
   "cell_type": "code",
   "execution_count": 6,
   "metadata": {},
   "outputs": [
    {
     "name": "stdout",
     "output_type": "stream",
     "text": [
      "[12]\n"
     ]
    }
   ],
   "source": [
    " sphere_template_id = obj_templates_mgr.load_configs(\n",
    "        str(os.path.join(sim_data_path, \"test_assets/objects/sphere\"))\n",
    "    )\n",
    " print(sphere_template_id)"
   ]
  },
  {
   "cell_type": "code",
   "execution_count": 7,
   "metadata": {},
   "outputs": [
    {
     "name": "stdout",
     "output_type": "stream",
     "text": [
      "Simulating 1.5 world seconds.\n",
      "Encoding the video: /data/reventh/habitat-lab/examples/tutorials/managed_rigid_object_tutorial_output/sim_basics.mp4 \n"
     ]
    },
    {
     "name": "stderr",
     "output_type": "stream",
     "text": [
      "/data/reventh/habitat-lab/examples/tutorials/managed_rigid_object_tutorial_output/sim_basics.mp4: Permission denied\n"
     ]
    },
    {
     "ename": "OSError",
     "evalue": "[Errno 32] Broken pipe\n\nFFMPEG COMMAND:\n/data/reventh/anaconda3/envs/habitat/bin/ffmpeg -y -f rawvideo -vcodec rawvideo -s 720x544 -pix_fmt rgba -r 60.00 -i - -an -vcodec libx264 -pix_fmt yuv420p -v warning /data/reventh/habitat-lab/examples/tutorials/managed_rigid_object_tutorial_output/sim_basics.mp4\n\nFFMPEG STDERR OUTPUT:\n",
     "output_type": "error",
     "traceback": [
      "\u001b[0;31m---------------------------------------------------------------------------\u001b[0m",
      "\u001b[0;31mBrokenPipeError\u001b[0m                           Traceback (most recent call last)",
      "File \u001b[0;32m/data/reventh/anaconda3/envs/habitat/lib/python3.9/site-packages/imageio_ffmpeg/_io.py:627\u001b[0m, in \u001b[0;36mwrite_frames\u001b[0;34m(path, size, pix_fmt_in, pix_fmt_out, fps, quality, bitrate, codec, macro_block_size, ffmpeg_log_level, ffmpeg_timeout, input_params, output_params, audio_path, audio_codec)\u001b[0m\n\u001b[1;32m    626\u001b[0m \u001b[38;5;28;01mtry\u001b[39;00m:\n\u001b[0;32m--> 627\u001b[0m     \u001b[43mp\u001b[49m\u001b[38;5;241;43m.\u001b[39;49m\u001b[43mstdin\u001b[49m\u001b[38;5;241;43m.\u001b[39;49m\u001b[43mwrite\u001b[49m\u001b[43m(\u001b[49m\u001b[43mbb\u001b[49m\u001b[43m)\u001b[49m\n\u001b[1;32m    628\u001b[0m \u001b[38;5;28;01mexcept\u001b[39;00m \u001b[38;5;167;01mException\u001b[39;00m \u001b[38;5;28;01mas\u001b[39;00m err:\n\u001b[1;32m    629\u001b[0m     \u001b[38;5;66;03m# Show the command and stderr from pipe\u001b[39;00m\n",
      "\u001b[0;31mBrokenPipeError\u001b[0m: [Errno 32] Broken pipe",
      "\nDuring handling of the above exception, another exception occurred:\n",
      "\u001b[0;31mOSError\u001b[0m                                   Traceback (most recent call last)",
      "Cell \u001b[0;32mIn[7], line 5\u001b[0m\n\u001b[1;32m      2\u001b[0m observations \u001b[38;5;241m=\u001b[39m simulate(sim, dt\u001b[38;5;241m=\u001b[39m\u001b[38;5;241m1.5\u001b[39m, get_frames\u001b[38;5;241m=\u001b[39mmake_video)\n\u001b[1;32m      4\u001b[0m \u001b[38;5;28;01mif\u001b[39;00m make_video:\n\u001b[0;32m----> 5\u001b[0m     \u001b[43mvut\u001b[49m\u001b[38;5;241;43m.\u001b[39;49m\u001b[43mmake_video\u001b[49m\u001b[43m(\u001b[49m\n\u001b[1;32m      6\u001b[0m \u001b[43m        \u001b[49m\u001b[43mobservations\u001b[49m\u001b[43m,\u001b[49m\n\u001b[1;32m      7\u001b[0m \u001b[43m        \u001b[49m\u001b[38;5;124;43m\"\u001b[39;49m\u001b[38;5;124;43mrgba_camera_1stperson\u001b[39;49m\u001b[38;5;124;43m\"\u001b[39;49m\u001b[43m,\u001b[49m\n\u001b[1;32m      8\u001b[0m \u001b[43m        \u001b[49m\u001b[38;5;124;43m\"\u001b[39;49m\u001b[38;5;124;43mcolor\u001b[39;49m\u001b[38;5;124;43m\"\u001b[39;49m\u001b[43m,\u001b[49m\n\u001b[1;32m      9\u001b[0m \u001b[43m        \u001b[49m\u001b[43moutput_path\u001b[49m\u001b[43m \u001b[49m\u001b[38;5;241;43m+\u001b[39;49m\u001b[43m \u001b[49m\u001b[38;5;124;43m\"\u001b[39;49m\u001b[38;5;124;43msim_basics\u001b[39;49m\u001b[38;5;124;43m\"\u001b[39;49m\u001b[43m,\u001b[49m\n\u001b[1;32m     10\u001b[0m \u001b[43m        \u001b[49m\u001b[43mopen_vid\u001b[49m\u001b[38;5;241;43m=\u001b[39;49m\u001b[43mshow_video\u001b[49m\u001b[43m,\u001b[49m\n\u001b[1;32m     11\u001b[0m \u001b[43m    \u001b[49m\u001b[43m)\u001b[49m\n",
      "File \u001b[0;32m/data/reventh/anaconda3/envs/habitat/lib/python3.9/site-packages/habitat_sim-0.3.1-py3.9-linux-x86_64.egg/habitat_sim/utils/viz_utils.py:251\u001b[0m, in \u001b[0;36mmake_video\u001b[0;34m(observations, primary_obs, primary_obs_type, video_file, fps, open_vid, video_dims, overlay_settings, depth_clip, observation_to_image)\u001b[0m\n\u001b[1;32m    241\u001b[0m     image_frame \u001b[38;5;241m=\u001b[39m make_video_frame(\n\u001b[1;32m    242\u001b[0m         ob,\n\u001b[1;32m    243\u001b[0m         primary_obs,\n\u001b[0;32m   (...)\u001b[0m\n\u001b[1;32m    247\u001b[0m         observation_to_image\u001b[38;5;241m=\u001b[39mobservation_to_image,\n\u001b[1;32m    248\u001b[0m     )\n\u001b[1;32m    250\u001b[0m     \u001b[38;5;66;03m# write the desired image to video\u001b[39;00m\n\u001b[0;32m--> 251\u001b[0m     \u001b[43mwriter\u001b[49m\u001b[38;5;241;43m.\u001b[39;49m\u001b[43mappend_data\u001b[49m\u001b[43m(\u001b[49m\u001b[43mnp\u001b[49m\u001b[38;5;241;43m.\u001b[39;49m\u001b[43marray\u001b[49m\u001b[43m(\u001b[49m\u001b[43mimage_frame\u001b[49m\u001b[43m)\u001b[49m\u001b[43m)\u001b[49m\n\u001b[1;32m    253\u001b[0m writer\u001b[38;5;241m.\u001b[39mclose()\n\u001b[1;32m    254\u001b[0m \u001b[38;5;28;01mif\u001b[39;00m open_vid:\n",
      "File \u001b[0;32m/data/reventh/anaconda3/envs/habitat/lib/python3.9/site-packages/imageio/core/format.py:590\u001b[0m, in \u001b[0;36mFormat.Writer.append_data\u001b[0;34m(self, im, meta)\u001b[0m\n\u001b[1;32m    588\u001b[0m im \u001b[38;5;241m=\u001b[39m asarray(im)\n\u001b[1;32m    589\u001b[0m \u001b[38;5;66;03m# Call\u001b[39;00m\n\u001b[0;32m--> 590\u001b[0m \u001b[38;5;28;01mreturn\u001b[39;00m \u001b[38;5;28;43mself\u001b[39;49m\u001b[38;5;241;43m.\u001b[39;49m\u001b[43m_append_data\u001b[49m\u001b[43m(\u001b[49m\u001b[43mim\u001b[49m\u001b[43m,\u001b[49m\u001b[43m \u001b[49m\u001b[43mtotal_meta\u001b[49m\u001b[43m)\u001b[49m\n",
      "File \u001b[0;32m/data/reventh/anaconda3/envs/habitat/lib/python3.9/site-packages/imageio/plugins/ffmpeg.py:600\u001b[0m, in \u001b[0;36mFfmpegFormat.Writer._append_data\u001b[0;34m(self, im, meta)\u001b[0m\n\u001b[1;32m    597\u001b[0m \u001b[38;5;28;01massert\u001b[39;00m \u001b[38;5;28mself\u001b[39m\u001b[38;5;241m.\u001b[39m_write_gen \u001b[38;5;129;01mis\u001b[39;00m \u001b[38;5;129;01mnot\u001b[39;00m \u001b[38;5;28;01mNone\u001b[39;00m  \u001b[38;5;66;03m# Check status\u001b[39;00m\n\u001b[1;32m    599\u001b[0m \u001b[38;5;66;03m# Write. Yes, we can send the data in as a numpy array\u001b[39;00m\n\u001b[0;32m--> 600\u001b[0m \u001b[38;5;28;43mself\u001b[39;49m\u001b[38;5;241;43m.\u001b[39;49m\u001b[43m_write_gen\u001b[49m\u001b[38;5;241;43m.\u001b[39;49m\u001b[43msend\u001b[49m\u001b[43m(\u001b[49m\u001b[43mim\u001b[49m\u001b[43m)\u001b[49m\n",
      "File \u001b[0;32m/data/reventh/anaconda3/envs/habitat/lib/python3.9/site-packages/imageio_ffmpeg/_io.py:634\u001b[0m, in \u001b[0;36mwrite_frames\u001b[0;34m(path, size, pix_fmt_in, pix_fmt_out, fps, quality, bitrate, codec, macro_block_size, ffmpeg_log_level, ffmpeg_timeout, input_params, output_params, audio_path, audio_codec)\u001b[0m\n\u001b[1;32m    628\u001b[0m         \u001b[38;5;28;01mexcept\u001b[39;00m \u001b[38;5;167;01mException\u001b[39;00m \u001b[38;5;28;01mas\u001b[39;00m err:\n\u001b[1;32m    629\u001b[0m             \u001b[38;5;66;03m# Show the command and stderr from pipe\u001b[39;00m\n\u001b[1;32m    630\u001b[0m             msg \u001b[38;5;241m=\u001b[39m (\n\u001b[1;32m    631\u001b[0m                 \u001b[38;5;124m\"\u001b[39m\u001b[38;5;132;01m{0:}\u001b[39;00m\u001b[38;5;130;01m\\n\u001b[39;00m\u001b[38;5;130;01m\\n\u001b[39;00m\u001b[38;5;124mFFMPEG COMMAND:\u001b[39m\u001b[38;5;130;01m\\n\u001b[39;00m\u001b[38;5;132;01m{1:}\u001b[39;00m\u001b[38;5;130;01m\\n\u001b[39;00m\u001b[38;5;130;01m\\n\u001b[39;00m\u001b[38;5;124mFFMPEG STDERR \u001b[39m\u001b[38;5;124m\"\u001b[39m\n\u001b[1;32m    632\u001b[0m                 \u001b[38;5;124m\"\u001b[39m\u001b[38;5;124mOUTPUT:\u001b[39m\u001b[38;5;130;01m\\n\u001b[39;00m\u001b[38;5;124m\"\u001b[39m\u001b[38;5;241m.\u001b[39mformat(err, cmd_str)\n\u001b[1;32m    633\u001b[0m             )\n\u001b[0;32m--> 634\u001b[0m             \u001b[38;5;28;01mraise\u001b[39;00m \u001b[38;5;167;01mIOError\u001b[39;00m(msg)\n\u001b[1;32m    636\u001b[0m         nframes \u001b[38;5;241m+\u001b[39m\u001b[38;5;241m=\u001b[39m \u001b[38;5;241m1\u001b[39m\n\u001b[1;32m    638\u001b[0m \u001b[38;5;28;01mexcept\u001b[39;00m \u001b[38;5;167;01mGeneratorExit\u001b[39;00m:\n\u001b[1;32m    639\u001b[0m     \u001b[38;5;66;03m# Note that GeneratorExit does not inherit from Exception but BaseException\u001b[39;00m\n\u001b[1;32m    640\u001b[0m     \u001b[38;5;66;03m# Detect premature closing\u001b[39;00m\n",
      "\u001b[0;31mOSError\u001b[0m: [Errno 32] Broken pipe\n\nFFMPEG COMMAND:\n/data/reventh/anaconda3/envs/habitat/bin/ffmpeg -y -f rawvideo -vcodec rawvideo -s 720x544 -pix_fmt rgba -r 60.00 -i - -an -vcodec libx264 -pix_fmt yuv420p -v warning /data/reventh/habitat-lab/examples/tutorials/managed_rigid_object_tutorial_output/sim_basics.mp4\n\nFFMPEG STDERR OUTPUT:\n"
     ]
    }
   ],
   "source": [
    "    # simulate\n",
    "    observations = simulate(sim, dt=1.5, get_frames=make_video)\n",
    "\n",
    "    if make_video:\n",
    "        vut.make_video(\n",
    "            observations,\n",
    "            \"rgba_camera_1stperson\",\n",
    "            \"color\",\n",
    "            output_path + \"sim_basics\",\n",
    "            open_vid=show_video,\n",
    "        )"
   ]
  },
  {
   "cell_type": "code",
   "execution_count": 9,
   "metadata": {},
   "outputs": [
    {
     "data": {
      "text/plain": [
       "<habitat_sim._ext.habitat_sim_bindings.ObjectAttributes at 0x7fa2f3f218b0>"
      ]
     },
     "execution_count": 9,
     "metadata": {},
     "output_type": "execute_result"
    }
   ],
   "source": [
    "temp_handle = obj_templates_mgr.get_file_template_handles()[0]\n",
    "obj_temp = obj_templates_mgr.get_template_by_handle(temp_handle)\n",
    "obj_temp"
   ]
  },
  {
   "cell_type": "code",
   "execution_count": 10,
   "metadata": {},
   "outputs": [
    {
     "data": {
      "text/plain": [
       "'/data/reventh/habitat-sim/data/test_assets/objects/sphere.object_config.json'"
      ]
     },
     "execution_count": 10,
     "metadata": {},
     "output_type": "execute_result"
    }
   ],
   "source": [
    "temp_handle"
   ]
  },
  {
   "cell_type": "code",
   "execution_count": 11,
   "metadata": {},
   "outputs": [
    {
     "name": "stdout",
     "output_type": "stream",
     "text": [
      "13\n"
     ]
    }
   ],
   "source": [
    "obj_temp.scale *= 5.0\n",
    "new_temp = temp_handle+'_new'\n",
    "new_tempid = obj_templates_mgr.register_template(obj_temp, new_temp)\n",
    "print(new_tempid)\n",
    "sphere_obj = rigid_obj_mgr.add_object_by_template_id(new_tempid)\n",
    "# move sphere\n",
    "sphere_obj.translation = [2.50, 0.0, 0.2]"
   ]
  },
  {
   "cell_type": "code",
   "execution_count": 26,
   "metadata": {},
   "outputs": [
    {
     "data": {
      "text/plain": [
       "<bound method PyCapsule.has_value of <habitat_sim._ext.habitat_sim_bindings.ObjectAttributes object at 0x7fa2f3f218b0>>"
      ]
     },
     "execution_count": 26,
     "metadata": {},
     "output_type": "execute_result"
    }
   ],
   "source": [
    "obj_temp.has_value"
   ]
  },
  {
   "cell_type": "code",
   "execution_count": 17,
   "metadata": {},
   "outputs": [
    {
     "data": {
      "text/plain": [
       "habitat_sim._ext.habitat_sim_bindings.ManagedRigidObject"
      ]
     },
     "execution_count": 17,
     "metadata": {},
     "output_type": "execute_result"
    }
   ],
   "source": [
    "type(sphere_obj)"
   ]
  },
  {
   "cell_type": "code",
   "execution_count": 10,
   "metadata": {},
   "outputs": [
    {
     "name": "stdout",
     "output_type": "stream",
     "text": [
      "Simulating 1.5 world seconds.\n",
      "Encoding the video: /data/reventh/habitat-lab/examples/tutorials/managed_rigid_object_tutorial_output/sim_basics.mp4 \n"
     ]
    },
    {
     "data": {
      "text/html": [
       "<video alt=\"test\" autoplay\n",
       "          loop controls style=\"height: 400px;\">\n",
       "          <source src=\"data:video/mp4';base64,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\" type=\"video/mp4\" />\n",
       "          </video>"
      ],
      "text/plain": [
       "<IPython.core.display.HTML object>"
      ]
     },
     "metadata": {},
     "output_type": "display_data"
    },
    {
     "data": {
      "text/plain": [
       "[<habitat_sim._ext.habitat_sim_bindings.ManagedRigidObject at 0x7faa68c9ad70>]"
      ]
     },
     "execution_count": 10,
     "metadata": {},
     "output_type": "execute_result"
    }
   ],
   "source": [
    "    # simulate\n",
    "    observations = simulate(sim, dt=1.5, get_frames=make_video)\n",
    "\n",
    "    if make_video:\n",
    "        vut.make_video(\n",
    "            observations,\n",
    "            \"rgba_camera_1stperson\",\n",
    "            \"color\",\n",
    "            output_path + \"sim_basics\",\n",
    "            open_vid=show_video,\n",
    "        )\n",
    "\n",
    "    # [/basics]\n",
    "    rigid_obj_mgr.remove_all_objects()"
   ]
  },
  {
   "cell_type": "code",
   "execution_count": 9,
   "metadata": {},
   "outputs": [
    {
     "name": "stdout",
     "output_type": "stream",
     "text": [
      "Sphere Object user attribute : obj_val_0 : This is a sphere object named sphere_:0000\n",
      "Sphere Object user attribute : obj_val_1 : 17\n",
      "Sphere Object user attribute : obj_val_2 : 0\n",
      "Sphere Object user attribute : obj_val_3 : 19.700000\n",
      "Sphere Object user attribute : obj_val_4 : [2.5 0 0.2]\n",
      "Sphere Object user attribute : obj_val_5 : 0.707107 [-0.707107 0 0]\n"
     ]
    },
    {
     "data": {
      "text/plain": [
       "[<habitat_sim._ext.habitat_sim_bindings.ManagedRigidObject at 0x7fb8155dc830>]"
      ]
     },
     "execution_count": 9,
     "metadata": {},
     "output_type": "execute_result"
    }
   ],
   "source": [
    "    # [object_user_configurations]\n",
    "    # modify an object's user-defined configurations\n",
    "\n",
    "    # load some object templates from configuration files\n",
    "    sphere_template_id = obj_templates_mgr.load_configs(\n",
    "        str(os.path.join(sim_data_path, \"test_assets/objects/sphere\"))\n",
    "    )\n",
    "\n",
    "    # add a sphere to the scene, returns the object\n",
    "    sphere_obj = rigid_obj_mgr.add_object_by_template_id(sphere_template_id)\n",
    "\n",
    "    # set user-defined configuration values\n",
    "    user_attributes_dict = {\n",
    "        \"obj_val_0\": \"This is a sphere object named \" + sphere_obj.handle,\n",
    "        \"obj_val_1\": 17,\n",
    "        \"obj_val_2\": False,\n",
    "        \"obj_val_3\": 19.7,\n",
    "        \"obj_val_4\": [2.50, 0.0, 0.2],\n",
    "        \"obj_val_5\": mn.Quaternion.rotation(mn.Deg(90.0), [-1.0, 0.0, 0.0]),\n",
    "    }\n",
    "    for k, v in user_attributes_dict.items():\n",
    "        sphere_obj.user_attributes.set(k, v)\n",
    "\n",
    "    for k, _ in user_attributes_dict.items():\n",
    "        print(\n",
    "            \"Sphere Object user attribute : {} : {}\".format(\n",
    "                k, sphere_obj.user_attributes.get_as_string(k)\n",
    "            )\n",
    "        )\n",
    "\n",
    "    # [/object_user_configurations]\n",
    "    rigid_obj_mgr.remove_all_objects()"
   ]
  },
  {
   "cell_type": "code",
   "execution_count": 11,
   "metadata": {
    "lines_to_next_cell": 0
   },
   "outputs": [
    {
     "ename": "IndexError",
     "evalue": "list index out of range",
     "output_type": "error",
     "traceback": [
      "\u001b[0;31m---------------------------------------------------------------------------\u001b[0m",
      "\u001b[0;31mIndexError\u001b[0m                                Traceback (most recent call last)",
      "Cell \u001b[0;32mIn[11], line 8\u001b[0m\n\u001b[1;32m      4\u001b[0m obj_templates_mgr\u001b[38;5;241m.\u001b[39mload_configs(\n\u001b[1;32m      5\u001b[0m     \u001b[38;5;28mstr\u001b[39m(os\u001b[38;5;241m.\u001b[39mpath\u001b[38;5;241m.\u001b[39mjoin(sim_data_path, \u001b[38;5;124m\"\u001b[39m\u001b[38;5;124mobjects/example_objects/\u001b[39m\u001b[38;5;124m\"\u001b[39m))\n\u001b[1;32m      6\u001b[0m )\n\u001b[1;32m      7\u001b[0m \u001b[38;5;66;03m# search for an object template by key sub-string\u001b[39;00m\n\u001b[0;32m----> 8\u001b[0m cheezit_template_handle \u001b[38;5;241m=\u001b[39m \u001b[43mobj_templates_mgr\u001b[49m\u001b[38;5;241;43m.\u001b[39;49m\u001b[43mget_template_handles\u001b[49m\u001b[43m(\u001b[49m\n\u001b[1;32m      9\u001b[0m \u001b[43m    \u001b[49m\u001b[43mos\u001b[49m\u001b[38;5;241;43m.\u001b[39;49m\u001b[43mpath\u001b[49m\u001b[38;5;241;43m.\u001b[39;49m\u001b[43mjoin\u001b[49m\u001b[43m(\u001b[49m\u001b[43msim_data_path\u001b[49m\u001b[43m,\u001b[49m\u001b[43m \u001b[49m\u001b[38;5;124;43m\"\u001b[39;49m\u001b[38;5;124;43mobjects/example_objects/cheezit\u001b[39;49m\u001b[38;5;124;43m\"\u001b[39;49m\u001b[43m)\u001b[49m\n\u001b[1;32m     10\u001b[0m \u001b[43m)\u001b[49m\u001b[43m[\u001b[49m\u001b[38;5;241;43m0\u001b[39;49m\u001b[43m]\u001b[49m\n\u001b[1;32m     11\u001b[0m \u001b[38;5;66;03m# build multiple object initial positions\u001b[39;00m\n\u001b[1;32m     12\u001b[0m box_positions \u001b[38;5;241m=\u001b[39m [\n\u001b[1;32m     13\u001b[0m     [\u001b[38;5;241m2.39\u001b[39m, \u001b[38;5;241m-\u001b[39m\u001b[38;5;241m0.37\u001b[39m, \u001b[38;5;241m0.0\u001b[39m],\n\u001b[1;32m     14\u001b[0m     [\u001b[38;5;241m2.39\u001b[39m, \u001b[38;5;241m-\u001b[39m\u001b[38;5;241m0.64\u001b[39m, \u001b[38;5;241m0.0\u001b[39m],\n\u001b[0;32m   (...)\u001b[0m\n\u001b[1;32m     17\u001b[0m     [\u001b[38;5;241m2.39\u001b[39m, \u001b[38;5;241m-\u001b[39m\u001b[38;5;241m0.64\u001b[39m, \u001b[38;5;241m0.22\u001b[39m],\n\u001b[1;32m     18\u001b[0m ]\n",
      "\u001b[0;31mIndexError\u001b[0m: list index out of range"
     ]
    }
   ],
   "source": [
    "    # [dynamic_control]\n",
    "\n",
    "    observations = []\n",
    "    obj_templates_mgr.load_configs(\n",
    "        str(os.path.join(sim_data_path, \"objects/example_objects/\"))\n",
    "    )\n",
    "    # search for an object template by key sub-string\n",
    "    cheezit_template_handle = obj_templates_mgr.get_template_handles(\n",
    "        os.path.join(sim_data_path, \"objects/example_objects/cheezit\")\n",
    "    )[0]\n",
    "    # build multiple object initial positions\n",
    "    box_positions = [\n",
    "        [2.39, -0.37, 0.0],\n",
    "        [2.39, -0.64, 0.0],\n",
    "        [2.39, -0.91, 0.0],\n",
    "        [2.39, -0.64, -0.22],\n",
    "        [2.39, -0.64, 0.22],\n",
    "    ]\n",
    "    box_orientation = mn.Quaternion.rotation(mn.Deg(90.0), [-1.0, 0.0, 0.0])\n",
    "    # instance and place the boxes\n",
    "    boxes = []\n",
    "    for b in range(len(box_positions)):\n",
    "        boxes.append(\n",
    "            rigid_obj_mgr.add_object_by_template_handle(cheezit_template_handle)\n",
    "        )\n",
    "        boxes[b].translation = box_positions[b]\n",
    "        boxes[b].rotation = box_orientation\n",
    "\n",
    "    # anti-gravity force f=m(-g) using first object's mass (all objects have the same mass)\n",
    "    anti_grav_force = -1.0 * sim.get_gravity() * boxes[0].mass\n",
    "\n",
    "    # throw a sphere at the boxes from the agent position\n",
    "    sphere_template = obj_templates_mgr.get_template_by_id(sphere_template_id)\n",
    "    sphere_template.scale = [0.5, 0.5, 0.5]\n",
    "\n",
    "    obj_templates_mgr.register_template(sphere_template)\n",
    "\n",
    "    # create sphere\n",
    "    sphere_obj = rigid_obj_mgr.add_object_by_template_id(sphere_template_id)\n",
    "\n",
    "    sphere_obj.translation = sim.agents[0].get_state().position + [0.0, 1.0, 0.0]\n",
    "    # get the vector from the sphere to a box\n",
    "    target_direction = boxes[0].translation - sphere_obj.translation\n",
    "    # apply an initial velocity for one step\n",
    "    sphere_obj.linear_velocity = target_direction * 5\n",
    "    sphere_obj.angular_velocity = [0.0, -1.0, 0.0]\n",
    "\n",
    "    start_time = sim.get_world_time()\n",
    "    dt = 3.0\n",
    "    while sim.get_world_time() < start_time + dt:\n",
    "        # set forces/torques before stepping the world\n",
    "        for box in boxes:\n",
    "            box.apply_force(anti_grav_force, [0.0, 0.0, 0.0])\n",
    "            box.apply_torque([0.0, 0.01, 0.0])\n",
    "        sim.step_physics(1.0 / 60.0)\n",
    "        observations.append(sim.get_sensor_observations())\n",
    "\n",
    "    if make_video:\n",
    "        vut.make_video(\n",
    "            observations,\n",
    "            \"rgba_camera_1stperson\",\n",
    "            \"color\",\n",
    "            output_path + \"dynamic_control\",\n",
    "            open_vid=show_video,\n",
    "        )\n",
    "\n",
    "    # [/dynamic_control]\n",
    "    rigid_obj_mgr.remove_all_objects()"
   ]
  },
  {
   "cell_type": "code",
   "execution_count": null,
   "metadata": {
    "lines_to_next_cell": 0
   },
   "outputs": [],
   "source": [
    "    # [kinematic_interactions]\n",
    "\n",
    "    chefcan_template_handle = obj_templates_mgr.get_template_handles(\n",
    "        \"data/objects/example_objects/chefcan\"\n",
    "    )[0]\n",
    "    chefcan_obj = rigid_obj_mgr.add_object_by_template_handle(chefcan_template_handle)\n",
    "    chefcan_obj.translation = [2.4, -0.64, 0.0]\n",
    "    # set object to kinematic\n",
    "    chefcan_obj.motion_type = habitat_sim.physics.MotionType.KINEMATIC\n",
    "\n",
    "    # drop some dynamic objects\n",
    "    chefcan_obj_2 = rigid_obj_mgr.add_object_by_template_handle(chefcan_template_handle)\n",
    "    chefcan_obj_2.translation = [2.4, -0.64, 0.28]\n",
    "    chefcan_obj_3 = rigid_obj_mgr.add_object_by_template_handle(chefcan_template_handle)\n",
    "    chefcan_obj_3.translation = [2.4, -0.64, -0.28]\n",
    "    chefcan_obj_4 = rigid_obj_mgr.add_object_by_template_handle(chefcan_template_handle)\n",
    "    chefcan_obj_4.translation = [2.4, -0.3, 0.0]\n",
    "\n",
    "    # simulate\n",
    "    observations = simulate(sim, dt=1.5, get_frames=True)\n",
    "\n",
    "    if make_video:\n",
    "        vut.make_video(\n",
    "            observations,\n",
    "            \"rgba_camera_1stperson\",\n",
    "            \"color\",\n",
    "            output_path + \"kinematic_interactions\",\n",
    "            open_vid=show_video,\n",
    "        )\n",
    "\n",
    "    # [/kinematic_interactions]\n",
    "\n",
    "    rigid_obj_mgr.remove_all_objects()"
   ]
  },
  {
   "cell_type": "code",
   "execution_count": null,
   "metadata": {
    "lines_to_next_cell": 0
   },
   "outputs": [],
   "source": [
    "    # [kinematic_update]\n",
    "    observations = []\n",
    "\n",
    "    clamp_template_handle = obj_templates_mgr.get_template_handles(\n",
    "        \"data/objects/example_objects/largeclamp\"\n",
    "    )[0]\n",
    "    clamp_obj = rigid_obj_mgr.add_object_by_template_handle(clamp_template_handle)\n",
    "    clamp_obj.motion_type = habitat_sim.physics.MotionType.KINEMATIC\n",
    "    clamp_obj.translation = [0.8, 0.2, 0.5]\n",
    "\n",
    "    start_time = sim.get_world_time()\n",
    "    dt = 1.0\n",
    "    while sim.get_world_time() < start_time + dt:\n",
    "        # manually control the object's kinematic state\n",
    "        clamp_obj.translation += [0.0, 0.0, 0.01]\n",
    "        clamp_obj.rotation = (\n",
    "            mn.Quaternion.rotation(mn.Rad(0.05), [-1.0, 0.0, 0.0]) * clamp_obj.rotation\n",
    "        )\n",
    "        sim.step_physics(1.0 / 60.0)\n",
    "        observations.append(sim.get_sensor_observations())\n",
    "\n",
    "    if make_video:\n",
    "        vut.make_video(\n",
    "            observations,\n",
    "            \"rgba_camera_1stperson\",\n",
    "            \"color\",\n",
    "            output_path + \"kinematic_update\",\n",
    "            open_vid=show_video,\n",
    "        )\n",
    "\n",
    "    # [/kinematic_update]"
   ]
  },
  {
   "cell_type": "code",
   "execution_count": null,
   "metadata": {
    "lines_to_next_cell": 0
   },
   "outputs": [],
   "source": [
    "    # [velocity_control]\n",
    "\n",
    "    # get object VelocityControl structure and setup control\n",
    "    vel_control = clamp_obj.velocity_control\n",
    "    vel_control.linear_velocity = [0.0, 0.0, -1.0]\n",
    "    vel_control.angular_velocity = [4.0, 0.0, 0.0]\n",
    "    vel_control.controlling_lin_vel = True\n",
    "    vel_control.controlling_ang_vel = True\n",
    "\n",
    "    observations = simulate(sim, dt=1.0, get_frames=True)\n",
    "\n",
    "    # reverse linear direction\n",
    "    vel_control.linear_velocity = [0.0, 0.0, 1.0]\n",
    "\n",
    "    observations += simulate(sim, dt=1.0, get_frames=True)\n",
    "\n",
    "    if make_video:\n",
    "        vut.make_video(\n",
    "            observations,\n",
    "            \"rgba_camera_1stperson\",\n",
    "            \"color\",\n",
    "            output_path + \"velocity_control\",\n",
    "            open_vid=show_video,\n",
    "        )\n",
    "\n",
    "    # [/velocity_control]"
   ]
  },
  {
   "cell_type": "code",
   "execution_count": null,
   "metadata": {
    "lines_to_next_cell": 0
   },
   "outputs": [],
   "source": [
    "    # [local_velocity_control]\n",
    "\n",
    "    vel_control.linear_velocity = [0.0, 0.0, 2.3]\n",
    "    vel_control.angular_velocity = [-4.3, 0.0, 0.0]\n",
    "    vel_control.lin_vel_is_local = True\n",
    "    vel_control.ang_vel_is_local = True\n",
    "\n",
    "    observations = simulate(sim, dt=1.5, get_frames=True)\n",
    "\n",
    "    # video rendering\n",
    "    if make_video:\n",
    "        vut.make_video(\n",
    "            observations,\n",
    "            \"rgba_camera_1stperson\",\n",
    "            \"color\",\n",
    "            output_path + \"local_velocity_control\",\n",
    "            open_vid=show_video,\n",
    "        )\n",
    "\n",
    "    # [/local_velocity_control]\n",
    "    rigid_obj_mgr.remove_all_objects()"
   ]
  },
  {
   "cell_type": "code",
   "execution_count": null,
   "metadata": {},
   "outputs": [],
   "source": [
    "    # [embodied_agent]\n",
    "\n",
    "    # load the locobot_merged asset\n",
    "    locobot_template_id = obj_templates_mgr.load_configs(\n",
    "        str(os.path.join(data_path, \"objects/locobot_merged\"))\n",
    "    )[0]\n",
    "\n",
    "    # add robot object to the scene with the agent/camera SceneNode attached\n",
    "    locobot = rigid_obj_mgr.add_object_by_template_id(\n",
    "        locobot_template_id, sim.agents[0].scene_node\n",
    "    )\n",
    "    locobot.translation = [1.75, -1.02, 0.4]\n",
    "\n",
    "    vel_control = locobot.velocity_control\n",
    "    vel_control.linear_velocity = [0.0, 0.0, -1.0]\n",
    "    vel_control.angular_velocity = [0.0, 2.0, 0.0]\n",
    "\n",
    "    # simulate robot dropping into place\n",
    "    observations = simulate(sim, dt=1.5, get_frames=make_video)\n",
    "\n",
    "    vel_control.controlling_lin_vel = True\n",
    "    vel_control.controlling_ang_vel = True\n",
    "    vel_control.lin_vel_is_local = True\n",
    "    vel_control.ang_vel_is_local = True\n",
    "\n",
    "    # simulate forward and turn\n",
    "    observations += simulate(sim, dt=1.0, get_frames=make_video)\n",
    "\n",
    "    vel_control.controlling_lin_vel = False\n",
    "    vel_control.angular_velocity = [0.0, 1.0, 0.0]\n",
    "\n",
    "    # simulate turn only\n",
    "    observations += simulate(sim, dt=1.5, get_frames=make_video)\n",
    "\n",
    "    vel_control.angular_velocity = [0.0, 0.0, 0.0]\n",
    "    vel_control.controlling_lin_vel = True\n",
    "    vel_control.controlling_ang_vel = True\n",
    "\n",
    "    # simulate forward only with damped angular velocity (reset angular velocity to 0 after each step)\n",
    "    observations += simulate(sim, dt=1.0, get_frames=make_video)\n",
    "\n",
    "    vel_control.angular_velocity = [0.0, -1.25, 0.0]\n",
    "\n",
    "    # simulate forward and turn\n",
    "    observations += simulate(sim, dt=2.0, get_frames=make_video)\n",
    "\n",
    "    vel_control.controlling_ang_vel = False\n",
    "    vel_control.controlling_lin_vel = False\n",
    "\n",
    "    # simulate settling\n",
    "    observations += simulate(sim, dt=3.0, get_frames=make_video)\n",
    "\n",
    "    # remove the agent's body while preserving the SceneNode\n",
    "    rigid_obj_mgr.remove_object_by_id(locobot.object_id, delete_object_node=False)\n",
    "\n",
    "    # demonstrate that the locobot object does not now exist'\n",
    "    print(\"Locobot is still alive : {}\".format(locobot.is_alive))\n",
    "\n",
    "    # video rendering with embedded 1st person view\n",
    "    if make_video:\n",
    "        vut.make_video(\n",
    "            observations,\n",
    "            \"rgba_camera_1stperson\",\n",
    "            \"color\",\n",
    "            output_path + \"robot_control\",\n",
    "            open_vid=show_video,\n",
    "        )\n",
    "\n",
    "    # [/embodied_agent]"
   ]
  },
  {
   "cell_type": "code",
   "execution_count": null,
   "metadata": {},
   "outputs": [],
   "source": [
    "    # [embodied_agent_navmesh]\n",
    "\n",
    "    # load the locobot_merged asset\n",
    "    locobot_template_id = obj_templates_mgr.load_configs(\n",
    "        str(os.path.join(data_path, \"objects/locobot_merged\"))\n",
    "    )[0]\n",
    "    # add robot object to the scene with the agent/camera SceneNode attached\n",
    "    locobot = rigid_obj_mgr.add_object_by_template_id(\n",
    "        locobot_template_id, sim.agents[0].scene_node\n",
    "    )\n",
    "    initial_rotation = locobot.rotation\n",
    "\n",
    "    # set the agent's body to kinematic since we will be updating position manually\n",
    "    locobot.motion_type = habitat_sim.physics.MotionType.KINEMATIC\n",
    "\n",
    "    # create and configure a new VelocityControl structure\n",
    "    # Note: this is NOT the object's VelocityControl, so it will not be consumed automatically in sim.step_physics\n",
    "    vel_control = habitat_sim.physics.VelocityControl()\n",
    "    vel_control.controlling_lin_vel = True\n",
    "    vel_control.lin_vel_is_local = True\n",
    "    vel_control.controlling_ang_vel = True\n",
    "    vel_control.ang_vel_is_local = True\n",
    "    vel_control.linear_velocity = [0.0, 0.0, -1.0]\n",
    "\n",
    "    # try 2 variations of the control experiment\n",
    "    for iteration in range(2):\n",
    "        # reset observations and robot state\n",
    "        observations = []\n",
    "        locobot.translation = [1.75, -1.02, 0.4]\n",
    "        locobot.rotation = initial_rotation\n",
    "        vel_control.angular_velocity = [0.0, 0.0, 0.0]\n",
    "\n",
    "        video_prefix = \"robot_control_sliding\"\n",
    "        # turn sliding off for the 2nd pass\n",
    "        if iteration == 1:\n",
    "            sim.config.sim_cfg.allow_sliding = False\n",
    "            video_prefix = \"robot_control_no_sliding\"\n",
    "\n",
    "        # manually control the object's kinematic state via velocity integration\n",
    "        start_time = sim.get_world_time()\n",
    "        last_velocity_set = 0\n",
    "        dt = 6.0\n",
    "        time_step = 1.0 / 60.0\n",
    "        while sim.get_world_time() < start_time + dt:\n",
    "            previous_rigid_state = locobot.rigid_state\n",
    "\n",
    "            # manually integrate the rigid state\n",
    "            target_rigid_state = vel_control.integrate_transform(\n",
    "                time_step, previous_rigid_state\n",
    "            )\n",
    "\n",
    "            # snap rigid state to navmesh and set state to object/agent\n",
    "            end_pos = sim.step_filter(\n",
    "                previous_rigid_state.translation, target_rigid_state.translation\n",
    "            )\n",
    "            locobot.translation = end_pos\n",
    "            locobot.rotation = target_rigid_state.rotation\n",
    "\n",
    "            # Check if a collision occurred\n",
    "            dist_moved_before_filter = (\n",
    "                target_rigid_state.translation - previous_rigid_state.translation\n",
    "            ).dot()\n",
    "            dist_moved_after_filter = (end_pos - previous_rigid_state.translation).dot()\n",
    "\n",
    "            # NB: There are some cases where ||filter_end - end_pos|| > 0 when a\n",
    "            # collision _didn't_ happen. One such case is going up stairs.  Instead,\n",
    "            # we check to see if the the amount moved after the application of the filter\n",
    "            # is _less_ than the amount moved before the application of the filter\n",
    "            EPS = 1e-5\n",
    "            collided = (dist_moved_after_filter + EPS) < dist_moved_before_filter\n",
    "\n",
    "            # run any dynamics simulation\n",
    "            sim.step_physics(time_step)\n",
    "\n",
    "            # render observation\n",
    "            observations.append(sim.get_sensor_observations())\n",
    "\n",
    "            # randomize angular velocity\n",
    "            last_velocity_set += time_step\n",
    "            if last_velocity_set >= 1.0:\n",
    "                vel_control.angular_velocity = [0.0, (random.random() - 0.5) * 2.0, 0.0]\n",
    "                last_velocity_set = 0\n",
    "\n",
    "        # video rendering with embedded 1st person views\n",
    "        if make_video:\n",
    "            sensor_dims = (\n",
    "                sim.get_agent(0).agent_config.sensor_specifications[0].resolution\n",
    "            )\n",
    "            overlay_dims = (int(sensor_dims[1] / 4), int(sensor_dims[0] / 4))\n",
    "            overlay_settings = [\n",
    "                {\n",
    "                    \"obs\": \"rgba_camera_1stperson\",\n",
    "                    \"type\": \"color\",\n",
    "                    \"dims\": overlay_dims,\n",
    "                    \"pos\": (10, 10),\n",
    "                    \"border\": 2,\n",
    "                },\n",
    "                {\n",
    "                    \"obs\": \"depth_camera_1stperson\",\n",
    "                    \"type\": \"depth\",\n",
    "                    \"dims\": overlay_dims,\n",
    "                    \"pos\": (10, 30 + overlay_dims[1]),\n",
    "                    \"border\": 2,\n",
    "                },\n",
    "            ]\n",
    "\n",
    "            vut.make_video(\n",
    "                observations=observations,\n",
    "                primary_obs=\"rgba_camera_3rdperson\",\n",
    "                primary_obs_type=\"color\",\n",
    "                video_file=output_path + video_prefix,\n",
    "                fps=60,\n",
    "                open_vid=show_video,\n",
    "                overlay_settings=overlay_settings,\n",
    "                depth_clip=10.0,\n",
    "            )\n",
    "\n",
    "    # [/embodied_agent_navmesh]"
   ]
  }
 ],
 "metadata": {
  "accelerator": "GPU",
  "jupytext": {
   "cell_metadata_filter": "-all",
   "formats": "nb_python//py:percent,notebooks//ipynb",
   "main_language": "python",
   "notebook_metadata_filter": "all"
  },
  "kernelspec": {
   "display_name": "habitat",
   "language": "python",
   "name": "python3"
  },
  "language_info": {
   "codemirror_mode": {
    "name": "ipython",
    "version": 3
   },
   "file_extension": ".py",
   "mimetype": "text/x-python",
   "name": "python",
   "nbconvert_exporter": "python",
   "pygments_lexer": "ipython3",
   "version": "3.9.19"
  }
 },
 "nbformat": 4,
 "nbformat_minor": 4
}
